{
 "cells": [
  {
   "cell_type": "markdown",
   "id": "informative-governor",
   "metadata": {},
   "source": [
    "## Exercise 1: Start Python to get an interactive prompt.\n",
    "### a. What Python version are you using? We hope it is at least 3.6!\n",
    "From command prompt:\n",
    ">`python -version`\n",
    ">\n",
    ">Python 3.9.2"
   ]
  },
  {
   "cell_type": "markdown",
   "id": "excellent-qatar",
   "metadata": {},
   "source": [
    "### b. Can you import torch? What version of PyTorch do you get?"
   ]
  },
  {
   "cell_type": "code",
   "execution_count": 2,
   "id": "furnished-relevance",
   "metadata": {},
   "outputs": [
    {
     "name": "stdout",
     "output_type": "stream",
     "text": [
      "1.8.1+cpu\n"
     ]
    }
   ],
   "source": [
    "import torch\n",
    "print(torch.__version__)"
   ]
  },
  {
   "cell_type": "markdown",
   "id": "tracked-surgeon",
   "metadata": {},
   "source": [
    "### c. What is the result of torch.cuda.is_available()? Does it match your expectation based on the hardware you’re using?\n",
    "GPU: AMD Radeon R7 M440"
   ]
  },
  {
   "cell_type": "code",
   "execution_count": 3,
   "id": "boring-wireless",
   "metadata": {},
   "outputs": [
    {
     "data": {
      "text/plain": [
       "False"
      ]
     },
     "execution_count": 3,
     "metadata": {},
     "output_type": "execute_result"
    }
   ],
   "source": [
    "torch.cuda.is_available()"
   ]
  },
  {
   "cell_type": "markdown",
   "id": "noble-class",
   "metadata": {},
   "source": [
    "## Exercise 2: Start the Jupyter notebook server.\n",
    "### a. What version of Python is Jupyter using?"
   ]
  },
  {
   "cell_type": "code",
   "execution_count": 4,
   "id": "dental-swaziland",
   "metadata": {},
   "outputs": [
    {
     "name": "stdout",
     "output_type": "stream",
     "text": [
      "3.9.2\n"
     ]
    }
   ],
   "source": [
    "from platform import python_version\n",
    "print(python_version())"
   ]
  },
  {
   "cell_type": "markdown",
   "id": "champion-costs",
   "metadata": {},
   "source": [
    "### b. Is the location of the torch library used by Jupyter the same as the one you imported from the interactive prompt?"
   ]
  }
 ],
 "metadata": {
  "kernelspec": {
   "display_name": "Python 3",
   "language": "python",
   "name": "python3"
  },
  "language_info": {
   "codemirror_mode": {
    "name": "ipython",
    "version": 3
   },
   "file_extension": ".py",
   "mimetype": "text/x-python",
   "name": "python",
   "nbconvert_exporter": "python",
   "pygments_lexer": "ipython3",
   "version": "3.9.2"
  }
 },
 "nbformat": 4,
 "nbformat_minor": 5
}
