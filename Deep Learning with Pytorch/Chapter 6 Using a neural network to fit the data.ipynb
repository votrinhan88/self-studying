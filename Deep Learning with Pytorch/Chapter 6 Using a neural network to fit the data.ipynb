{
 "cells": [
  {
   "cell_type": "markdown",
   "id": "cultural-operations",
   "metadata": {},
   "source": [
    "## 6.2 The PyTorch nn module"
   ]
  },
  {
   "cell_type": "code",
   "execution_count": 3,
   "id": "working-convertible",
   "metadata": {},
   "outputs": [],
   "source": [
    "import numpy as np\n",
    "import torch\n",
    "import matplotlib.pyplot as plt\n",
    "import torch.nn as nn"
   ]
  },
  {
   "cell_type": "code",
   "execution_count": 4,
   "id": "imperial-captain",
   "metadata": {},
   "outputs": [
    {
     "data": {
      "text/plain": [
       "torch.Size([11, 1])"
      ]
     },
     "execution_count": 4,
     "metadata": {},
     "output_type": "execute_result"
    }
   ],
   "source": [
    "t_c = [0.5,  14.0, 15.0, 28.0, 11.0,  8.0,  3.0, -4.0,  6.0, 13.0, 21.0]\n",
    "t_u = [35.7, 55.9, 58.2, 81.9, 56.3, 48.9, 33.9, 21.8, 48.4, 60.4, 68.4]\n",
    "t_c = torch.tensor(t_c).unsqueeze(1) # <1>\n",
    "t_u = torch.tensor(t_u).unsqueeze(1) # <1>\n",
    "\n",
    "t_u.shape"
   ]
  },
  {
   "cell_type": "code",
   "execution_count": 5,
   "id": "pediatric-responsibility",
   "metadata": {},
   "outputs": [
    {
     "data": {
      "text/plain": [
       "(tensor([ 1,  7, 10,  0,  5,  3,  9,  4,  6]), tensor([2, 8]))"
      ]
     },
     "execution_count": 5,
     "metadata": {},
     "output_type": "execute_result"
    }
   ],
   "source": [
    "n_samples = t_u.shape[0]\n",
    "n_val = int(0.2 * n_samples)\n",
    "\n",
    "shuffled_indices = torch.randperm(n_samples)\n",
    "\n",
    "train_indices = shuffled_indices[:-n_val]\n",
    "val_indices = shuffled_indices[-n_val:]\n",
    "\n",
    "train_indices, val_indices"
   ]
  },
  {
   "cell_type": "code",
   "execution_count": 6,
   "id": "curious-tennessee",
   "metadata": {},
   "outputs": [],
   "source": [
    "t_u_train = t_u[train_indices]\n",
    "t_c_train = t_c[train_indices]\n",
    "\n",
    "t_u_val = t_u[val_indices]\n",
    "t_c_val = t_c[val_indices]\n",
    "\n",
    "t_un_train = 0.1 * t_u_train\n",
    "t_un_val = 0.1 * t_u_val"
   ]
  },
  {
   "cell_type": "code",
   "execution_count": 7,
   "id": "worse-joint",
   "metadata": {},
   "outputs": [
    {
     "data": {
      "text/plain": [
       "tensor([[-6.5186],\n",
       "        [-5.5849]], grad_fn=<AddmmBackward>)"
      ]
     },
     "execution_count": 7,
     "metadata": {},
     "output_type": "execute_result"
    }
   ],
   "source": [
    "linear_model = nn.Linear(1, 1)\n",
    "linear_model(t_un_val)"
   ]
  },
  {
   "cell_type": "code",
   "execution_count": 8,
   "id": "seeing-reality",
   "metadata": {},
   "outputs": [
    {
     "name": "stdout",
     "output_type": "stream",
     "text": [
      "linear_model.weight\n",
      " Parameter containing:\n",
      "tensor([[-0.9528]], requires_grad=True)\n",
      "\n",
      "linear_model.bias\n",
      " Parameter containing:\n",
      "tensor([-0.9733], requires_grad=True)\n"
     ]
    }
   ],
   "source": [
    "print('linear_model.weight\\n', linear_model.weight)\n",
    "print()\n",
    "print('linear_model.bias\\n', linear_model.bias)"
   ]
  },
  {
   "cell_type": "code",
   "execution_count": 9,
   "id": "approximate-penguin",
   "metadata": {},
   "outputs": [
    {
     "data": {
      "text/plain": [
       "tensor([-1.9261], grad_fn=<AddBackward0>)"
      ]
     },
     "execution_count": 9,
     "metadata": {},
     "output_type": "execute_result"
    }
   ],
   "source": [
    "x = torch.ones(1)\n",
    "linear_model(x)"
   ]
  },
  {
   "cell_type": "code",
   "execution_count": 10,
   "id": "corporate-punch",
   "metadata": {},
   "outputs": [
    {
     "data": {
      "text/plain": [
       "tensor([[-1.9261],\n",
       "        [-1.9261],\n",
       "        [-1.9261],\n",
       "        [-1.9261],\n",
       "        [-1.9261],\n",
       "        [-1.9261],\n",
       "        [-1.9261],\n",
       "        [-1.9261],\n",
       "        [-1.9261],\n",
       "        [-1.9261]], grad_fn=<AddmmBackward>)"
      ]
     },
     "execution_count": 10,
     "metadata": {},
     "output_type": "execute_result"
    }
   ],
   "source": [
    "x = torch.ones(10, 1)\n",
    "linear_model(x)"
   ]
  },
  {
   "cell_type": "code",
   "execution_count": 11,
   "id": "therapeutic-literature",
   "metadata": {},
   "outputs": [],
   "source": [
    "linear_model = nn.Linear(1, 1)\n",
    "optimizer = torch.optim.SGD(linear_model.parameters(), lr=1e-2)"
   ]
  },
  {
   "cell_type": "code",
   "execution_count": 12,
   "id": "collect-exploration",
   "metadata": {},
   "outputs": [
    {
     "data": {
      "text/plain": [
       "<generator object Module.parameters at 0x0000023A4C764B30>"
      ]
     },
     "execution_count": 12,
     "metadata": {},
     "output_type": "execute_result"
    }
   ],
   "source": [
    "linear_model.parameters()"
   ]
  },
  {
   "cell_type": "code",
   "execution_count": 13,
   "id": "unique-banner",
   "metadata": {},
   "outputs": [
    {
     "data": {
      "text/plain": [
       "[Parameter containing:\n",
       " tensor([[0.4651]], requires_grad=True),\n",
       " Parameter containing:\n",
       " tensor([-0.7148], requires_grad=True)]"
      ]
     },
     "execution_count": 13,
     "metadata": {},
     "output_type": "execute_result"
    }
   ],
   "source": [
    "list(linear_model.parameters())"
   ]
  },
  {
   "cell_type": "code",
   "execution_count": 14,
   "id": "known-undergraduate",
   "metadata": {},
   "outputs": [],
   "source": [
    "def training_loop(n_epochs, optimizer, model, loss_fn, t_u_train, t_u_val, t_c_train, t_c_val):\n",
    "    for epoch in range(1, n_epochs + 1):\n",
    "        t_p_train = model(t_u_train)\n",
    "        loss_train = loss_fn(t_p_train, t_c_train)\n",
    "                            \n",
    "        t_p_val = model(t_u_val)\n",
    "        loss_val = loss_fn(t_p_val, t_c_val)\n",
    "        \n",
    "        optimizer.zero_grad()\n",
    "        loss_train.backward()\n",
    "        optimizer.step()\n",
    "        \n",
    "        if epoch == 1 or epoch % 1000 == 0:\n",
    "            print(f\"epoch {epoch}, Training loss {loss_train.item(): .4f},\"\n",
    "                  f\" Validation loss {loss_val.item(): .4f}\")\n",
    "\n",
    "def loss_fn(t_p, t_c):\n",
    "    squared_diffs = (t_p - t_c)**2\n",
    "    return squared_diffs.mean()"
   ]
  },
  {
   "cell_type": "code",
   "execution_count": 15,
   "id": "persistent-swedish",
   "metadata": {},
   "outputs": [
    {
     "name": "stdout",
     "output_type": "stream",
     "text": [
      "epoch 1, Training loss  156.4997, Validation loss  97.1426\n",
      "epoch 1000, Training loss  3.1123, Validation loss  5.6068\n",
      "epoch 2000, Training loss  2.6244, Validation loss  4.6796\n",
      "epoch 3000, Training loss  2.6159, Validation loss  4.5642\n",
      "\n",
      "Parameter containing:\n",
      "tensor([[5.3058]], requires_grad=True)\n",
      "Parameter containing:\n",
      "tensor([-16.8036], requires_grad=True)\n"
     ]
    }
   ],
   "source": [
    "linear_model = nn.Linear(1, 1)\n",
    "optimizer = torch.optim.SGD(linear_model.parameters(), lr=1e-2)\n",
    "\n",
    "training_loop(\n",
    "    n_epochs = 3000,\n",
    "    optimizer = optimizer,\n",
    "    model = linear_model,\n",
    "    loss_fn = nn.MSELoss(),\n",
    "    #loss_fn = loss_fn,\n",
    "    t_u_train = t_un_train,\n",
    "    t_u_val = t_un_val,\n",
    "    t_c_train = t_c_train,\n",
    "    t_c_val = t_c_val\n",
    ")\n",
    "\n",
    "print()\n",
    "print(linear_model.weight)\n",
    "print(linear_model.bias)"
   ]
  },
  {
   "cell_type": "markdown",
   "id": "proprietary-irrigation",
   "metadata": {},
   "source": [
    "## 6.3 Finally a neural network"
   ]
  },
  {
   "cell_type": "code",
   "execution_count": 16,
   "id": "integral-tiger",
   "metadata": {},
   "outputs": [
    {
     "data": {
      "text/plain": [
       "Sequential(\n",
       "  (0): Linear(in_features=1, out_features=15, bias=True)\n",
       "  (1): Tanh()\n",
       "  (2): Linear(in_features=15, out_features=1, bias=True)\n",
       ")"
      ]
     },
     "execution_count": 16,
     "metadata": {},
     "output_type": "execute_result"
    }
   ],
   "source": [
    "seq_model = nn.Sequential(\n",
    "    nn.Linear(1, 15),\n",
    "    nn.Tanh(),\n",
    "    nn.Linear(15, 1))\n",
    "seq_model"
   ]
  },
  {
   "cell_type": "code",
   "execution_count": 17,
   "id": "insured-journalist",
   "metadata": {},
   "outputs": [
    {
     "data": {
      "text/plain": [
       "[torch.Size([15, 1]), torch.Size([15]), torch.Size([1, 15]), torch.Size([1])]"
      ]
     },
     "execution_count": 17,
     "metadata": {},
     "output_type": "execute_result"
    }
   ],
   "source": [
    "[param.shape for param in seq_model.parameters()]"
   ]
  },
  {
   "cell_type": "code",
   "execution_count": 18,
   "id": "small-storm",
   "metadata": {},
   "outputs": [
    {
     "name": "stdout",
     "output_type": "stream",
     "text": [
      "0.weight torch.Size([15, 1])\n",
      "0.bias torch.Size([15])\n",
      "2.weight torch.Size([1, 15])\n",
      "2.bias torch.Size([1])\n"
     ]
    }
   ],
   "source": [
    "for name, param in seq_model.named_parameters():\n",
    "    print(name, param.shape)"
   ]
  },
  {
   "cell_type": "code",
   "execution_count": 19,
   "id": "sized-penguin",
   "metadata": {},
   "outputs": [
    {
     "data": {
      "text/plain": [
       "Sequential(\n",
       "  (hidden_linear): Linear(in_features=1, out_features=8, bias=True)\n",
       "  (hidden_activation): Tanh()\n",
       "  (output_linear): Linear(in_features=8, out_features=1, bias=True)\n",
       ")"
      ]
     },
     "execution_count": 19,
     "metadata": {},
     "output_type": "execute_result"
    }
   ],
   "source": [
    "from collections import OrderedDict\n",
    "\n",
    "seq_model_2 = nn.Sequential(OrderedDict([\n",
    "    ('hidden_linear', nn.Linear(1, 8)),\n",
    "    ('hidden_activation', nn.Tanh()),\n",
    "    ('output_linear', nn.Linear(8, 1))\n",
    "]))\n",
    "seq_model_2"
   ]
  },
  {
   "cell_type": "code",
   "execution_count": 20,
   "id": "absent-treaty",
   "metadata": {},
   "outputs": [
    {
     "name": "stdout",
     "output_type": "stream",
     "text": [
      "hidden_linear.weight torch.Size([8, 1])\n",
      "hidden_linear.bias torch.Size([8])\n",
      "output_linear.weight torch.Size([1, 8])\n",
      "output_linear.bias torch.Size([1])\n"
     ]
    }
   ],
   "source": [
    "for name, param in seq_model_2.named_parameters():\n",
    "    print(name, param.shape)"
   ]
  },
  {
   "cell_type": "code",
   "execution_count": 21,
   "id": "central-lloyd",
   "metadata": {},
   "outputs": [
    {
     "name": "stdout",
     "output_type": "stream",
     "text": [
      "seq_model[0].bias\n",
      " Parameter containing:\n",
      "tensor([ 0.0228, -0.7001, -0.4368,  0.6506, -0.6631,  0.1057,  0.8928, -0.1837,\n",
      "         0.5595, -0.2157, -0.6915,  0.5093,  0.9806,  0.5705,  0.6848],\n",
      "       requires_grad=True)\n",
      "\n",
      "seq_model_2.output_linear.bias\n",
      " Parameter containing:\n",
      "tensor([-0.2211], requires_grad=True)\n"
     ]
    }
   ],
   "source": [
    "print(\"seq_model[0].bias\\n\", seq_model[0].bias)\n",
    "print()\n",
    "print(\"seq_model_2.output_linear.bias\\n\", seq_model_2.output_linear.bias)"
   ]
  },
  {
   "cell_type": "code",
   "execution_count": 23,
   "id": "super-harvey",
   "metadata": {},
   "outputs": [
    {
     "name": "stdout",
     "output_type": "stream",
     "text": [
      "epoch 1, Training loss  193.1374, Validation loss  123.0156\n",
      "epoch 1000, Training loss  5.0720, Validation loss  3.6518\n",
      "epoch 2000, Training loss  4.6790, Validation loss  5.2786\n",
      "epoch 3000, Training loss  2.5212, Validation loss  2.2792\n",
      "epoch 4000, Training loss  1.8729, Validation loss  2.0876\n",
      "epoch 5000, Training loss  1.6842, Validation loss  2.3536\n",
      "output tensor([[13.2330],\n",
      "        [ 7.4104]], grad_fn=<AddmmBackward>)\n",
      "answer tensor([[15.],\n",
      "        [ 6.]])\n",
      "hidden tensor([[-0.1691],\n",
      "        [-0.1397],\n",
      "        [-3.0086],\n",
      "        [ 0.0651],\n",
      "        [ 3.4464],\n",
      "        [-0.1536],\n",
      "        [-3.5833],\n",
      "        [ 3.4867]])\n"
     ]
    }
   ],
   "source": [
    "optimizer = torch.optim.SGD(seq_model_2.parameters(), lr=1e-3)\n",
    "\n",
    "training_loop(\n",
    "    n_epochs = 5000,\n",
    "    optimizer = optimizer,\n",
    "    model = seq_model_2,\n",
    "    loss_fn = nn.MSELoss(),\n",
    "    t_u_train = t_un_train,\n",
    "    t_u_val = t_un_val,\n",
    "    t_c_train = t_c_train,\n",
    "    t_c_val = t_c_val\n",
    ")\n",
    "\n",
    "print('output', seq_model_2(t_un_val))\n",
    "print('answer', t_c_val)\n",
    "print('hidden', seq_model_2.hidden_linear.weight.grad)"
   ]
  },
  {
   "cell_type": "code",
   "execution_count": 24,
   "id": "wooden-filename",
   "metadata": {},
   "outputs": [
    {
     "data": {
      "text/plain": [
       "[<matplotlib.lines.Line2D at 0x23a4c8646a0>]"
      ]
     },
     "execution_count": 24,
     "metadata": {},
     "output_type": "execute_result"
    },
    {
     "data": {
      "image/png": "[encoded data removed]",
      "text/plain": [
       "<Figure size 600x400 with 1 Axes>"
      ]
     },
     "metadata": {
      "needs_background": "light"
     },
     "output_type": "display_data"
    }
   ],
   "source": [
    "t_range = torch.arange(20., 90.).unsqueeze(1)\n",
    "\n",
    "fig = plt.figure(dpi = 100)\n",
    "plt.xlabel(\"Fahrenheit\")\n",
    "plt.ylabel(\"Celsius\")\n",
    "plt.plot(t_u.numpy(), t_c.numpy(), 'o')\n",
    "plt.plot(t_range.numpy(), seq_model_2(0.1 * t_range).detach().numpy(), 'c-')\n",
    "plt.plot(t_u.numpy(), seq_model_2(0.1 * t_u).detach().numpy(), 'kx')"
   ]
  },
  {
   "cell_type": "markdown",
   "id": "juvenile-horizontal",
   "metadata": {},
   "source": [
    "## Exercise 1: Experiment with the number of hidden neurons in our simple neural network model, as well as the learning rate.\n",
    "### a. What changes result in more linear output from the model?\n",
    "### b. Can you get the model to obviously overfit the data?"
   ]
  },
  {
   "cell_type": "code",
   "execution_count": 25,
   "id": "written-retrieval",
   "metadata": {},
   "outputs": [
    {
     "name": "stdout",
     "output_type": "stream",
     "text": [
      "a.\n",
      "The output becomes more linear when increases when increasing number of neurons, and the learning rate.\n",
      "b.\n",
      "But the model cannot overfit the data obviously.\n",
      "\n",
      "epoch 1, Training loss  217.8980, Validation loss  147.9609\n",
      "epoch 1000, Training loss  3.2991, Validation loss  3.4388\n",
      "epoch 2000, Training loss  2.1804, Validation loss  2.7199\n",
      "epoch 3000, Training loss  2.2570, Validation loss  3.1656\n",
      "epoch 4000, Training loss  1.9611, Validation loss  3.0481\n",
      "epoch 5000, Training loss  1.8349, Validation loss  3.0159\n",
      "epoch 6000, Training loss  1.7566, Validation loss  2.9762\n",
      "epoch 7000, Training loss  1.7137, Validation loss  2.9517\n",
      "epoch 8000, Training loss  1.6915, Validation loss  2.9436\n",
      "epoch 9000, Training loss  1.6785, Validation loss  2.9409\n",
      "epoch 10000, Training loss  1.6688, Validation loss  2.9349\n"
     ]
    },
    {
     "data": {
      "text/plain": [
       "[<matplotlib.lines.Line2D at 0x23a4e97db80>]"
      ]
     },
     "execution_count": 25,
     "metadata": {},
     "output_type": "execute_result"
    },
    {
     "data": {
      "image/png": "[encoded data removed]",
      "text/plain": [
       "<Figure size 600x400 with 1 Axes>"
      ]
     },
     "metadata": {
      "needs_background": "light"
     },
     "output_type": "display_data"
    }
   ],
   "source": [
    "print(\"a.\")\n",
    "print(\"The output becomes more linear when increases when increasing number of neurons, and the learning rate.\")\n",
    "print(\"b.\")\n",
    "print(\"But the model cannot overfit the data obviously.\")\n",
    "\n",
    "print()\n",
    "seq_model_exc = nn.Sequential(\n",
    "    nn.Linear(1, 20),\n",
    "    #nn.Tanh(),\n",
    "    #nn.Linear(20, 20),\n",
    "    nn.Tanh(),\n",
    "    nn.Linear(20, 1))\n",
    "\n",
    "optimizer = torch.optim.SGD(seq_model_exc.parameters(), lr=1e-3)\n",
    "\n",
    "training_loop(\n",
    "    n_epochs = 10000,\n",
    "    optimizer = optimizer,\n",
    "    model = seq_model_exc,\n",
    "    loss_fn = nn.MSELoss(),\n",
    "    t_u_train = t_un_train,\n",
    "    t_u_val = t_un_val,\n",
    "    t_c_train = t_c_train,\n",
    "    t_c_val = t_c_val\n",
    ")\n",
    "\n",
    "t_range = torch.arange(20., 90.).unsqueeze(1)\n",
    "\n",
    "fig = plt.figure(dpi = 100)\n",
    "plt.xlabel(\"Fahrenheit\")\n",
    "plt.ylabel(\"Celsius\")\n",
    "plt.plot(t_u.numpy(), t_c.numpy(), 'o')\n",
    "plt.plot(t_range.numpy(), seq_model_exc(0.1 * t_range).detach().numpy(), 'c-')\n",
    "plt.plot(t_u.numpy(), seq_model_exc(0.1 * t_u).detach().numpy(), 'kx')"
   ]
  },
  {
   "cell_type": "markdown",
   "id": "usual-pakistan",
   "metadata": {},
   "source": [
    "## Exercise 2: The third-hardest problem in physics is finding a proper wine to celebrate discoveries. Load the wine data from chapter 4, and create a new model with the appropriate number of input parameters.\n",
    "### a. How long does it take to train compared to the temperature data we have been using?\n",
    "Longer\n",
    "### b. Can you explain what factors contribute to the training times?\n",
    "- The structure of the neural network.\n",
    "- The size of the dataset.\n",
    "- Optimizer.\n",
    "\n",
    "### c. Can you get the loss to decrease while training on this dataset?\n",
    "Yes. But the data is not good enough.\n",
    "\n",
    "### d. How would you go about graphing this dataset?\n",
    "Done."
   ]
  },
  {
   "cell_type": "code",
   "execution_count": 183,
   "id": "commercial-mineral",
   "metadata": {},
   "outputs": [],
   "source": [
    "import csv\n",
    "wine_path = \"data/sheets/winequality-white.csv\"\n",
    "wineq_numpy = np.loadtxt(wine_path, dtype=np.float32, delimiter=\";\",\n",
    "                         skiprows=1)"
   ]
  },
  {
   "cell_type": "code",
   "execution_count": 200,
   "id": "radio-minority",
   "metadata": {},
   "outputs": [
    {
     "data": {
      "text/plain": [
       "((4898, 12),\n",
       " ['fixed acidity',\n",
       "  'volatile acidity',\n",
       "  'citric acid',\n",
       "  'residual sugar',\n",
       "  'chlorides',\n",
       "  'free sulfur dioxide',\n",
       "  'total sulfur dioxide',\n",
       "  'density',\n",
       "  'pH',\n",
       "  'sulphates',\n",
       "  'alcohol',\n",
       "  'quality'])"
      ]
     },
     "execution_count": 200,
     "metadata": {},
     "output_type": "execute_result"
    }
   ],
   "source": [
    "col_list = next(csv.reader(open(wine_path), delimiter=';'))\n",
    "feature = 6\n",
    "wineq_numpy.shape, col_list"
   ]
  },
  {
   "cell_type": "code",
   "execution_count": 201,
   "id": "cardiac-wells",
   "metadata": {},
   "outputs": [
    {
     "data": {
      "text/plain": [
       "(torch.Size([4898, 12]), torch.float32)"
      ]
     },
     "execution_count": 201,
     "metadata": {},
     "output_type": "execute_result"
    }
   ],
   "source": [
    "wineq = torch.from_numpy(wineq_numpy)\n",
    "wineq.shape, wineq.dtype"
   ]
  },
  {
   "cell_type": "code",
   "execution_count": 202,
   "id": "caroline-heather",
   "metadata": {},
   "outputs": [
    {
     "name": "stdout",
     "output_type": "stream",
     "text": [
      "wine_data\n",
      "tensor([[170.],\n",
      "        [132.],\n",
      "        [ 97.],\n",
      "        ...,\n",
      "        [111.],\n",
      "        [110.],\n",
      "        [ 98.]])\n",
      "torch.Size([4898, 1])\n",
      "\n",
      "wine_result\n",
      "tensor([[6.],\n",
      "        [6.],\n",
      "        [6.],\n",
      "        ...,\n",
      "        [6.],\n",
      "        [7.],\n",
      "        [6.]])\n",
      "torch.Size([4898, 1])\n"
     ]
    }
   ],
   "source": [
    "wine_data = wineq[:, feature].unsqueeze(1)\n",
    "print(f\"wine_data\\n{wine_data}\\n{wine_data.shape}\")\n",
    "print()\n",
    "wine_result = wineq[:, 11].unsqueeze(1)\n",
    "print(f\"wine_result\\n{wine_result}\\n{wine_result.shape}\")"
   ]
  },
  {
   "cell_type": "code",
   "execution_count": 203,
   "id": "south-nowhere",
   "metadata": {},
   "outputs": [
    {
     "data": {
      "text/plain": [
       "(torch.Size([2939]), torch.Size([1959]))"
      ]
     },
     "execution_count": 203,
     "metadata": {},
     "output_type": "execute_result"
    }
   ],
   "source": [
    "n_samples = wine_data.shape[0]\n",
    "n_val = int(0.4 * n_samples)\n",
    "\n",
    "shuffled_indices = torch.randperm(n_samples)\n",
    "\n",
    "train_indices = shuffled_indices[:-n_val]\n",
    "val_indices = shuffled_indices[-n_val:]\n",
    "\n",
    "train_indices.shape, val_indices.shape"
   ]
  },
  {
   "cell_type": "code",
   "execution_count": 204,
   "id": "controversial-tuning",
   "metadata": {},
   "outputs": [],
   "source": [
    "wine_data_train = wine_data[train_indices]\n",
    "wine_result_train = wine_result[train_indices]\n",
    "\n",
    "wine_data_val = wine_data[val_indices]\n",
    "wine_result_val = wine_result[val_indices]\n",
    "\n",
    "#wine_datan_train = wine_data_train/max(wine_data)\n",
    "#wine_datan_val = wine_data[val_indices]/max(wine_data)\n",
    "#wine_datan_train = wine_data_train/max(wine_data)\n",
    "#wine_datan_val = wine_data[val_indices]/max(wine_data)\n",
    "wine_datan_train = wine_data_train\n",
    "wine_datan_val = wine_data[val_indices]\n",
    "\n",
    "#t_un_train = 0.1 * t_u_train\n",
    "#t_un_val = 0.1 * t_u_val"
   ]
  },
  {
   "cell_type": "code",
   "execution_count": 205,
   "id": "classical-scott",
   "metadata": {},
   "outputs": [],
   "source": [
    "def training_loop(n_epochs, optimizer, model, loss_fn, data_train, data_val, result_train, result_val):\n",
    "    for epoch in range(1, n_epochs + 1):\n",
    "        predict_train = model(data_train)\n",
    "        loss_train = loss_fn(predict_train, result_train)\n",
    "                            \n",
    "        predict_val = model(data_val)\n",
    "        loss_val = loss_fn(predict_val, result_val)\n",
    "        \n",
    "        optimizer.zero_grad()\n",
    "        loss_train.backward()\n",
    "        optimizer.step()\n",
    "        \n",
    "        if epoch == 1 or epoch % 200 == 0:\n",
    "            print(f\"epoch {epoch}, Training loss {loss_train.item(): .4f},\"\n",
    "                  f\" Validation loss {loss_val.item(): .4f}\")"
   ]
  },
  {
   "cell_type": "code",
   "execution_count": 214,
   "id": "demographic-tucson",
   "metadata": {},
   "outputs": [
    {
     "name": "stdout",
     "output_type": "stream",
     "text": [
      "epoch 1, Training loss  35.1583, Validation loss  34.9240\n",
      "epoch 200, Training loss  0.7817, Validation loss  0.7852\n",
      "epoch 400, Training loss  0.7813, Validation loss  0.7852\n",
      "epoch 600, Training loss  0.7810, Validation loss  0.7853\n",
      "epoch 800, Training loss  0.7809, Validation loss  0.7855\n",
      "epoch 1000, Training loss  0.7809, Validation loss  0.7854\n"
     ]
    }
   ],
   "source": [
    "seq_model_wine = nn.Sequential(\n",
    "    nn.Linear(1, 50),\n",
    "    nn.Tanh(),\n",
    "    nn.Linear(50, 200),\n",
    "    nn.Tanh(),\n",
    "    nn.Linear(200, 1))\n",
    "\n",
    "optimizer = torch.optim.SGD(seq_model_wine.parameters(), lr=1e-3)\n",
    "\n",
    "training_loop(\n",
    "    n_epochs = 1000,\n",
    "    optimizer = optimizer,\n",
    "    model = seq_model_wine,\n",
    "    loss_fn = nn.MSELoss(),\n",
    "    data_train = wine_datan_train,\n",
    "    data_val = wine_datan_val,\n",
    "    result_train = wine_result_train,\n",
    "    result_val = wine_result_val\n",
    ")"
   ]
  },
  {
   "cell_type": "code",
   "execution_count": 215,
   "id": "precise-executive",
   "metadata": {},
   "outputs": [
    {
     "data": {
      "text/plain": [
       "[<matplotlib.lines.Line2D at 0x23a5282d580>]"
      ]
     },
     "execution_count": 215,
     "metadata": {},
     "output_type": "execute_result"
    },
    {
     "data": {
      "image/png": "[encoded data removed]",
      "text/plain": [
       "<Figure size 600x400 with 1 Axes>"
      ]
     },
     "metadata": {
      "needs_background": "light"
     },
     "output_type": "display_data"
    }
   ],
   "source": [
    "wine_range = torch.linspace(wine_data.min(), wine_data.max(), 101).unsqueeze(1)\n",
    "\n",
    "fig = plt.figure(dpi = 100)\n",
    "plt.xlabel(col_list[feature])\n",
    "plt.ylabel('quality')\n",
    "plt.plot(wine_data.numpy(), wine_result.numpy(), 'o')\n",
    "plt.plot(wine_range.numpy(), seq_model_wine(wine_range).detach().numpy(), 'c-')\n",
    "plt.plot(wine_data.numpy(), seq_model_wine(wine_data).detach().numpy(), 'kx')\n",
    "\n",
    "#t_range = torch.arange(20., 90.).unsqueeze(1)\n",
    "\n",
    "#fig = plt.figure(dpi = 100)\n",
    "#plt.xlabel(\"Fahrenheit\")\n",
    "#plt.ylabel(\"Celsius\")\n",
    "#plt.plot(t_u.numpy(), t_c.numpy(), 'o')\n",
    "#plt.plot(t_range.numpy(), seq_model_wine(0.1 * t_range).detach().numpy(), 'c-')\n",
    "#plt.plot(t_u.numpy(), seq_model_wine(0.1 * t_u).detach().numpy(), 'kx')"
   ]
  },
  {
   "cell_type": "code",
   "execution_count": null,
   "id": "adopted-filename",
   "metadata": {},
   "outputs": [],
   "source": []
  }
 ],
 "metadata": {
  "kernelspec": {
   "display_name": "Python 3",
   "language": "python",
   "name": "python3"
  },
  "language_info": {
   "codemirror_mode": {
    "name": "ipython",
    "version": 3
   },
   "file_extension": ".py",
   "mimetype": "text/x-python",
   "name": "python",
   "nbconvert_exporter": "python",
   "pygments_lexer": "ipython3",
   "version": "3.9.2"
  }
 },
 "nbformat": 4,
 "nbformat_minor": 5
}
