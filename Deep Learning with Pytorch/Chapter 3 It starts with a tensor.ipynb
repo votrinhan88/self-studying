{
 "cells": [
  {
   "cell_type": "markdown",
   "id": "valid-hearts",
   "metadata": {},
   "source": [
    "## 3.2 Tensors: Multidimensional arrays"
   ]
  },
  {
   "cell_type": "markdown",
   "id": "synthetic-petroleum",
   "metadata": {},
   "source": [
    "**Python list**"
   ]
  },
  {
   "cell_type": "code",
   "execution_count": 1,
   "id": "aggressive-collect",
   "metadata": {},
   "outputs": [
    {
     "name": "stdout",
     "output_type": "stream",
     "text": [
      "a = [1.0, 2.0, 1.0]\n",
      "a[0] = 1.0\n",
      "a = [1.0, 2.0, 3.0]\n"
     ]
    }
   ],
   "source": [
    "a = [1.0, 2.0, 1.0]\n",
    "print(\"a =\", a)\n",
    "print(\"a[0] =\", a[0])\n",
    "a[2] = 3.0\n",
    "print(\"a =\", a)"
   ]
  },
  {
   "cell_type": "markdown",
   "id": "legal-multiple",
   "metadata": {},
   "source": [
    "**PyTorch tensor**"
   ]
  },
  {
   "cell_type": "code",
   "execution_count": 2,
   "id": "forward-monitoring",
   "metadata": {},
   "outputs": [
    {
     "name": "stdout",
     "output_type": "stream",
     "text": [
      "b = tensor([1., 1., 1.])\n",
      "b[1] = tensor(1.)\n",
      "float(b[2]) = 1.0\n",
      "b = tensor([1., 2., 1.])\n"
     ]
    }
   ],
   "source": [
    "import torch\n",
    "b = torch.ones(3)\n",
    "print(\"b =\", b)\n",
    "\n",
    "print(\"b[1] =\", b[1])\n",
    "\n",
    "print(\"float(b[2]) =\", float(b[2]))\n",
    "\n",
    "b[1] = 2.0\n",
    "print(\"b =\", b)"
   ]
  },
  {
   "cell_type": "code",
   "execution_count": 3,
   "id": "pursuant-vienna",
   "metadata": {},
   "outputs": [
    {
     "name": "stdout",
     "output_type": "stream",
     "text": [
      "c = tensor([0., 0., 0., 0., 0., 0.])\n",
      "c[4] = tensor(0.)\n",
      "c = tensor([6., 5., 4., 3., 2., 1.])\n",
      "c[4] = tensor(2.)\n",
      "c = tensor([ 8.,  9., 10., 11., 12., 13.])\n",
      "c[4] = tensor(12.)\n"
     ]
    }
   ],
   "source": [
    "c = torch.zeros(6)\n",
    "print(\"c =\", c)\n",
    "print(\"c[4] =\", c[4])\n",
    "\n",
    "c[0] = 6\n",
    "c[1] = 5\n",
    "c[2] = 4\n",
    "c[3] = 3\n",
    "c[4] = 2\n",
    "c[5] = 1\n",
    "print(\"c =\", c)\n",
    "print(\"c[4] =\", c[4])\n",
    "\n",
    "c = torch.tensor([8.0, 9.0, 10.0, 11.0, 12.0, 13.0])\n",
    "print(\"c =\", c)\n",
    "print(\"c[4] =\", c[4])"
   ]
  },
  {
   "cell_type": "code",
   "execution_count": 4,
   "id": "wrapped-myanmar",
   "metadata": {},
   "outputs": [
    {
     "name": "stdout",
     "output_type": "stream",
     "text": [
      "d =\n",
      " tensor([[0., 0., 0.],\n",
      "        [0., 0., 0.]])\n",
      "d[1, 1] = tensor(0.)\n",
      "d[0] = tensor([0., 0., 0.])\n",
      "\n",
      "\n",
      "d =\n",
      " tensor([[2., 3., 4.],\n",
      "        [3., 1., 4.]])\n",
      "d[1, 1] = tensor(1.)\n",
      "d[0] = tensor([2., 3., 4.])\n",
      "\n",
      "\n",
      "d.shape = torch.Size([2, 3])\n"
     ]
    }
   ],
   "source": [
    "d = torch.zeros(2, 3)\n",
    "print(\"d =\\n\",d)\n",
    "print(\"d[1, 1] =\", d[1, 1])\n",
    "print(\"d[0] =\", d[0])\n",
    "\n",
    "print(\"\\n\")\n",
    "d = torch.tensor([[2.0, 3.0, 4.0], [3.0, 1.0, 4.0]])\n",
    "print(\"d =\\n\",d)\n",
    "print(\"d[1, 1] =\", d[1, 1])\n",
    "print(\"d[0] =\", d[0])\n",
    "\n",
    "print(\"\\n\")\n",
    "print(\"d.shape =\", d.shape)"
   ]
  },
  {
   "cell_type": "markdown",
   "id": "immune-needle",
   "metadata": {},
   "source": [
    "## 3.3 Indexing tensors"
   ]
  },
  {
   "cell_type": "code",
   "execution_count": 5,
   "id": "collaborative-lying",
   "metadata": {},
   "outputs": [
    {
     "name": "stdout",
     "output_type": "stream",
     "text": [
      "e =\n",
      " tensor([[8, 7, 2, 9],\n",
      "        [9, 3, 9, 0],\n",
      "        [3, 4, 8, 5],\n",
      "        [1, 0, 1, 1]])\n",
      "Without proper specification, all columns are indexed by default.\n",
      "All rows:\n",
      "e[:] =\n",
      " tensor([[8, 7, 2, 9],\n",
      "        [9, 3, 9, 0],\n",
      "        [3, 4, 8, 5],\n",
      "        [1, 0, 1, 1]])\n",
      "Row 1 --> (3-1):\n",
      "e[1:3] =\n",
      " tensor([[9, 3, 9, 0],\n",
      "        [3, 4, 8, 5]])\n",
      "Row 2 --> end:\n",
      "e[2:] =\n",
      " tensor([[3, 4, 8, 5],\n",
      "        [1, 0, 1, 1]])\n",
      "Row start --> (4-1):\n",
      "e[:4] =\n",
      " tensor([[8, 7, 2, 9],\n",
      "        [9, 3, 9, 0],\n",
      "        [3, 4, 8, 5],\n",
      "        [1, 0, 1, 1]])\n",
      "Row start --> next to last:\n",
      "e[:-1] =\n",
      " tensor([[8, 7, 2, 9],\n",
      "        [9, 3, 9, 0],\n",
      "        [3, 4, 8, 5]])\n",
      "Row 1 --> (4-1), in step of 2:\n",
      "e[1:4:2] =\n",
      " tensor([[9, 3, 9, 0],\n",
      "        [1, 0, 1, 1]])\n",
      "\n",
      "\n",
      "Row start --> (2-1), Col 0:\n",
      "e[:2, 0] =\n",
      " tensor([8, 9])\n",
      "Row 1 --> last, Col start --> (2-1):\n",
      "e[1:, :2] =\n",
      " tensor([[9, 3],\n",
      "        [3, 4],\n",
      "        [1, 0]])\n",
      "Add a dimension of size 1, same to unsqueeze:\n",
      "e[None] =\n",
      " tensor([[[8, 7, 2, 9],\n",
      "         [9, 3, 9, 0],\n",
      "         [3, 4, 8, 5],\n",
      "         [1, 0, 1, 1]]])\n"
     ]
    }
   ],
   "source": [
    "e = torch.randint(0, 10, [4, 4])\n",
    "print(\"e =\\n\", e)\n",
    "\n",
    "print(\"Without proper specification, all columns are indexed by default.\")\n",
    "print(\"All rows:\\ne[:] =\\n\", e[:])\n",
    "print(\"Row 1 --> (3-1):\\ne[1:3] =\\n\", e[1:3])\n",
    "print(\"Row 2 --> end:\\ne[2:] =\\n\", e[2:])\n",
    "print(\"Row start --> (4-1):\\ne[:4] =\\n\", e[:4])\n",
    "print(\"Row start --> next to last:\\ne[:-1] =\\n\", e[:-1])\n",
    "print(\"Row 1 --> (4-1), in step of 2:\\ne[1:4:2] =\\n\", e[1:4:2])\n",
    "\n",
    "print(\"\\n\")\n",
    "print(\"Row start --> (2-1), Col 0:\\ne[:2, 0] =\\n\", e[:2, 0])\n",
    "print(\"Row 1 --> last, Col start --> (2-1):\\ne[1:, :2] =\\n\", e[1:, :2])\n",
    "print(\"Add a dimension of size 1, same to unsqueeze:\\ne[None] =\\n\", e[None])"
   ]
  },
  {
   "cell_type": "markdown",
   "id": "verbal-marina",
   "metadata": {},
   "source": [
    "## 3.5 Tensor element types\n",
    "\n",
    "`torch.float32` or `torch.float`: 32-bit floating-point  \n",
    "`torch.float64` or `torch.double`: 64-bit, double-precision floating-point  \n",
    "`torch.float16` or `torch.half`: 16-bit, half-precision floating-point  \n",
    "`torch.int8`: signed 8-bit integers  \n",
    "`torch.uint8`: unsigned 8-bit integers  \n",
    "`torch.int16` or `torch.short`: signed 16-bit integers  \n",
    "`torch.int32` or `torch.int`: signed 32-bit integers  \n",
    "`torch.int64` or `torch.long`: signed 64-bit integers  \n",
    "`torch.bool`: Boolean"
   ]
  },
  {
   "cell_type": "code",
   "execution_count": 6,
   "id": "disabled-liquid",
   "metadata": {},
   "outputs": [
    {
     "name": "stdout",
     "output_type": "stream",
     "text": [
      "f = torch.ones(3, 2, dtype = torch.float)\n",
      "f =\n",
      " tensor([[1., 1.],\n",
      "        [1., 1.],\n",
      "        [1., 1.]])\n",
      "f.dtype = torch.float32\n"
     ]
    }
   ],
   "source": [
    "print(\"f = torch.ones(3, 2, dtype = torch.float)\")\n",
    "f = torch.ones(3, 2, dtype = torch.float)\n",
    "# f = torch.ones(3, 2).float()\n",
    "# f = torch.ones(3, 2).to(torch.float)\n",
    "# f = torch.ones(3, 2).to(dtype = torch.float)\n",
    "print(\"f =\\n\", f)\n",
    "\n",
    "print(\"f.dtype =\", f.dtype)"
   ]
  },
  {
   "cell_type": "markdown",
   "id": "composed-transition",
   "metadata": {},
   "source": [
    "## Exercise 1: Create a tensor a from list(range(9)). Predict and then check the size, offset, and stride.\n",
    "### a. Create a new tensor using b = a.view(3, 3). What does view do? Check that a and b share the same storage.\n",
    "### b. Create a tensor c = b[1:,1:]. Predict and then check the size, offset, and stride."
   ]
  },
  {
   "cell_type": "code",
   "execution_count": 7,
   "id": "productive-thomas",
   "metadata": {},
   "outputs": [
    {
     "name": "stdout",
     "output_type": "stream",
     "text": [
      "a = tensor([0, 1, 2, 3, 4, 5, 6, 7, 8])\n",
      "a.size() = torch.Size([9])\n",
      "a.offset() = 0\n",
      "a.stride() = (1,)\n",
      "\n",
      "a.\n",
      "b =\n",
      " tensor([[0, 1, 2],\n",
      "        [3, 4, 5],\n",
      "        [6, 7, 8]])\n",
      "view accesses the tensor element and reshapes them into a tensor with different size.\n",
      "a and b share the same storage: True\n",
      "\n",
      "b.\n",
      "c =\n",
      " tensor([[4, 5],\n",
      "        [7, 8]])\n",
      "c.size() = torch.Size([2, 2])\n",
      "c.offset() = 4\n",
      "c.stride() = (3, 1)\n"
     ]
    }
   ],
   "source": [
    "a = torch.tensor(list(range(9)))\n",
    "print(\"a =\", a)\n",
    "print(\"a.size() =\", a.size())\n",
    "print(\"a.offset() =\", a.storage_offset())\n",
    "print(\"a.stride() =\", a.stride())\n",
    "\n",
    "print(\"\\na.\")\n",
    "b = a.view(3, 3)\n",
    "print(\"b =\\n\", b)\n",
    "print(\"view accesses the tensor element and reshapes them into a tensor with different size.\")\n",
    "print(\"a and b share the same storage:\", id(a.storage()) == id(b.storage()))\n",
    "\n",
    "print(\"\\nb.\")\n",
    "c = b[1:, 1:]\n",
    "print(\"c =\\n\", c)\n",
    "print(\"c.size() =\", c.size())\n",
    "print(\"c.offset() =\", c.storage_offset())\n",
    "print(\"c.stride() =\", c.stride())"
   ]
  },
  {
   "cell_type": "markdown",
   "id": "continuing-finance",
   "metadata": {},
   "source": [
    "## Exercise 2: Pick a mathematical operation like cosine or square root. Can you find a corresponding function in the torch library?\n",
    "### a. Apply the function element-wise to a. Why does it return an error?\n",
    "### b. What operation is required to make the function work?\n",
    "### c. Is there a version of your function that operates in place?"
   ]
  },
  {
   "cell_type": "code",
   "execution_count": 8,
   "id": "average-liquid",
   "metadata": {},
   "outputs": [
    {
     "name": "stdout",
     "output_type": "stream",
     "text": [
      "torsen =\n",
      " tensor([[0.8172, 0.8648, 0.0287],\n",
      "        [0.8302, 0.8772, 0.3184],\n",
      "        [0.4324, 0.2590, 0.9046]])\n",
      "a.\n",
      "When using math.sin(torsen), it returns\n",
      "ValueError: only one element tensors can be converted to Python scalars\n",
      "\n",
      "b.\n",
      "Alternatively, we should use numpy or torch.\n",
      "torsen_sin =\n",
      " tensor([[0.7292, 0.7610, 0.0287],\n",
      "        [0.7381, 0.7689, 0.3130],\n",
      "        [0.4190, 0.2561, 0.7862]])\n",
      "\n",
      "c.\n",
      "Or operations with a trailing underscore to operate inplace. For example sin_(), sqrt_()\n",
      "torsen_sin2 =\n",
      " tensor([[0.7292, 0.7610, 0.0287],\n",
      "        [0.7381, 0.7689, 0.3130],\n",
      "        [0.4190, 0.2561, 0.7862]])\n"
     ]
    }
   ],
   "source": [
    "import math\n",
    "import numpy as np\n",
    "torsen = torch.rand(3, 3)\n",
    "print(\"torsen =\\n\", torsen)\n",
    "print(\"a.\")\n",
    "# torsen_sin = math.sin(torsen)\n",
    "print(\"When using math.sin(torsen), it returns\")\n",
    "print(\"ValueError: only one element tensors can be converted to Python scalars\")\n",
    "print(\"\\nb.\")\n",
    "print(\"Alternatively, we should use numpy or torch.\")\n",
    "\n",
    "# torsen_sin = np.sin(torsen)\n",
    "torsen_sin = torch.sin(torsen)\n",
    "print(\"torsen_sin =\\n\", torsen_sin)\n",
    "print(\"\\nc.\")\n",
    "print(\"Or operations with a trailing underscore to operate inplace. For example sin_(), sqrt_()\")\n",
    "torsen_sin2 = torsen.sin_()\n",
    "print(\"torsen_sin2 =\\n\", torsen_sin2)\n"
   ]
  },
  {
   "cell_type": "code",
   "execution_count": null,
   "id": "thick-metro",
   "metadata": {},
   "outputs": [],
   "source": []
  }
 ],
 "metadata": {
  "kernelspec": {
   "display_name": "Python 3",
   "language": "python",
   "name": "python3"
  },
  "language_info": {
   "codemirror_mode": {
    "name": "ipython",
    "version": 3
   },
   "file_extension": ".py",
   "mimetype": "text/x-python",
   "name": "python",
   "nbconvert_exporter": "python",
   "pygments_lexer": "ipython3",
   "version": "3.9.2"
  }
 },
 "nbformat": 4,
 "nbformat_minor": 5
}
