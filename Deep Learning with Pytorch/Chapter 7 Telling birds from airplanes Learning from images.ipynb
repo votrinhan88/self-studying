{
 "cells": [
  {
   "cell_type": "code",
   "execution_count": 1,
   "id": "flush-approach",
   "metadata": {},
   "outputs": [],
   "source": [
    "import numpy\n",
    "import torch\n",
    "import torch.nn as nn\n",
    "import matplotlib.pyplot as plt"
   ]
  },
  {
   "cell_type": "markdown",
   "id": "cardiac-twelve",
   "metadata": {},
   "source": [
    "## 7.1 A dataset of tiny images"
   ]
  },
  {
   "cell_type": "code",
   "execution_count": 6,
   "id": "christian-designer",
   "metadata": {},
   "outputs": [
    {
     "name": "stdout",
     "output_type": "stream",
     "text": [
      "Files already downloaded and verified\n",
      "Files already downloaded and verified\n"
     ]
    }
   ],
   "source": [
    "from torchvision import datasets\n",
    "data_path = 'data/photos/cifar10/'\n",
    "cifar10 = datasets.CIFAR10(data_path, train=True, download=True)\n",
    "cifar10_val = datasets.CIFAR10(data_path, train=False, download=True)\n",
    "class_names = ['airplane','automobile','bird','cat','deer',\n",
    "               'dog','frog','horse','ship','truck']"
   ]
  },
  {
   "cell_type": "code",
   "execution_count": 7,
   "id": "stupid-apparatus",
   "metadata": {},
   "outputs": [
    {
     "data": {
      "text/plain": [
       "(torchvision.datasets.cifar.CIFAR10,\n",
       " torchvision.datasets.vision.VisionDataset,\n",
       " torch.utils.data.dataset.Dataset,\n",
       " typing.Generic,\n",
       " object)"
      ]
     },
     "execution_count": 7,
     "metadata": {},
     "output_type": "execute_result"
    }
   ],
   "source": [
    "type(cifar10).__mro__"
   ]
  },
  {
   "cell_type": "code",
   "execution_count": 8,
   "id": "guilty-cambodia",
   "metadata": {},
   "outputs": [
    {
     "data": {
      "text/plain": [
       "50000"
      ]
     },
     "execution_count": 8,
     "metadata": {},
     "output_type": "execute_result"
    }
   ],
   "source": [
    "len(cifar10)"
   ]
  },
  {
   "cell_type": "code",
   "execution_count": 9,
   "id": "solved-booth",
   "metadata": {},
   "outputs": [
    {
     "data": {
      "text/plain": [
       "(<PIL.Image.Image image mode=RGB size=32x32 at 0x1961C6D0F40>, 1, 'automobile')"
      ]
     },
     "execution_count": 9,
     "metadata": {},
     "output_type": "execute_result"
    }
   ],
   "source": [
    "img, label = cifar10[99]\n",
    "img, label, class_names[label]"
   ]
  },
  {
   "cell_type": "code",
   "execution_count": 10,
   "id": "experimental-berry",
   "metadata": {},
   "outputs": [
    {
     "data": {
      "image/png": "[encoded data removed]",
      "text/plain": [
       "<Figure size 432x288 with 1 Axes>"
      ]
     },
     "metadata": {
      "needs_background": "light"
     },
     "output_type": "display_data"
    }
   ],
   "source": [
    "plt.imshow(img)\n",
    "plt.show()"
   ]
  },
  {
   "cell_type": "code",
   "execution_count": 11,
   "id": "voluntary-illustration",
   "metadata": {},
   "outputs": [
    {
     "data": {
      "text/plain": [
       "['AutoAugment',\n",
       " 'AutoAugmentPolicy',\n",
       " 'CenterCrop',\n",
       " 'ColorJitter',\n",
       " 'Compose',\n",
       " 'ConvertImageDtype',\n",
       " 'Enum',\n",
       " 'F',\n",
       " 'FiveCrop',\n",
       " 'GaussianBlur',\n",
       " 'Grayscale',\n",
       " 'InterpolationMode',\n",
       " 'Lambda',\n",
       " 'LinearTransformation',\n",
       " 'List',\n",
       " 'Normalize',\n",
       " 'Optional',\n",
       " 'PILToTensor',\n",
       " 'Pad',\n",
       " 'RandomAdjustSharpness',\n",
       " 'RandomAffine',\n",
       " 'RandomApply',\n",
       " 'RandomAutocontrast',\n",
       " 'RandomChoice',\n",
       " 'RandomCrop',\n",
       " 'RandomEqualize',\n",
       " 'RandomErasing',\n",
       " 'RandomGrayscale',\n",
       " 'RandomHorizontalFlip',\n",
       " 'RandomInvert',\n",
       " 'RandomOrder',\n",
       " 'RandomPerspective',\n",
       " 'RandomPosterize',\n",
       " 'RandomResizedCrop',\n",
       " 'RandomRotation',\n",
       " 'RandomSizedCrop',\n",
       " 'RandomSolarize',\n",
       " 'RandomVerticalFlip',\n",
       " 'Resize',\n",
       " 'Scale',\n",
       " 'TenCrop',\n",
       " 'Tensor',\n",
       " 'ToPILImage',\n",
       " 'ToTensor',\n",
       " 'Tuple',\n",
       " '__builtins__',\n",
       " '__cached__',\n",
       " '__doc__',\n",
       " '__file__',\n",
       " '__loader__',\n",
       " '__name__',\n",
       " '__package__',\n",
       " '__path__',\n",
       " '__spec__',\n",
       " 'autoaugment',\n",
       " 'functional',\n",
       " 'functional_pil',\n",
       " 'functional_tensor',\n",
       " 'math',\n",
       " 'torch',\n",
       " 'transforms']"
      ]
     },
     "execution_count": 11,
     "metadata": {},
     "output_type": "execute_result"
    }
   ],
   "source": [
    "from torchvision import transforms\n",
    "dir(transforms)"
   ]
  },
  {
   "cell_type": "code",
   "execution_count": 12,
   "id": "interior-involvement",
   "metadata": {},
   "outputs": [
    {
     "data": {
      "text/plain": [
       "torch.Size([3, 32, 32])"
      ]
     },
     "execution_count": 12,
     "metadata": {},
     "output_type": "execute_result"
    }
   ],
   "source": [
    "from torchvision import transforms\n",
    "to_tensor = transforms.ToTensor()\n",
    "img_t = to_tensor(img)\n",
    "img_t.shape"
   ]
  },
  {
   "cell_type": "code",
   "execution_count": 13,
   "id": "unique-stamp",
   "metadata": {},
   "outputs": [],
   "source": [
    "tensor_cifar10 = datasets.CIFAR10(data_path, train=True, download=False, transform=transforms.ToTensor())"
   ]
  },
  {
   "cell_type": "code",
   "execution_count": 14,
   "id": "stupid-missouri",
   "metadata": {},
   "outputs": [
    {
     "data": {
      "text/plain": [
       "torch.Tensor"
      ]
     },
     "execution_count": 14,
     "metadata": {},
     "output_type": "execute_result"
    }
   ],
   "source": [
    "img_t, _ = tensor_cifar10[99]\n",
    "type(img_t)"
   ]
  },
  {
   "cell_type": "code",
   "execution_count": 15,
   "id": "laughing-quarterly",
   "metadata": {},
   "outputs": [
    {
     "data": {
      "text/plain": [
       "(torch.Size([3, 32, 32]), torch.float32)"
      ]
     },
     "execution_count": 15,
     "metadata": {},
     "output_type": "execute_result"
    }
   ],
   "source": [
    "img_t.shape, img_t.dtype"
   ]
  },
  {
   "cell_type": "code",
   "execution_count": 16,
   "id": "going-superintendent",
   "metadata": {},
   "outputs": [
    {
     "data": {
      "text/plain": [
       "(tensor(0.), tensor(1.))"
      ]
     },
     "execution_count": 16,
     "metadata": {},
     "output_type": "execute_result"
    }
   ],
   "source": [
    "img_t.min(), img_t.max()"
   ]
  },
  {
   "cell_type": "code",
   "execution_count": 17,
   "id": "positive-leather",
   "metadata": {},
   "outputs": [
    {
     "data": {
      "image/png": "[encoded data removed]",
      "text/plain": [
       "<Figure size 432x288 with 1 Axes>"
      ]
     },
     "metadata": {
      "needs_background": "light"
     },
     "output_type": "display_data"
    }
   ],
   "source": [
    "plt.imshow(img_t.permute(1, 2, 0))\n",
    "plt.show()"
   ]
  },
  {
   "cell_type": "code",
   "execution_count": 18,
   "id": "polish-vertex",
   "metadata": {},
   "outputs": [
    {
     "data": {
      "text/plain": [
       "torch.Size([3, 32, 32, 50000])"
      ]
     },
     "execution_count": 18,
     "metadata": {},
     "output_type": "execute_result"
    }
   ],
   "source": [
    "imgs = torch.stack([img_t for img_t, _ in tensor_cifar10], dim=3)\n",
    "imgs.shape"
   ]
  },
  {
   "cell_type": "code",
   "execution_count": 19,
   "id": "armed-congress",
   "metadata": {},
   "outputs": [
    {
     "data": {
      "text/plain": [
       "tensor([0.4914, 0.4822, 0.4465])"
      ]
     },
     "execution_count": 19,
     "metadata": {},
     "output_type": "execute_result"
    }
   ],
   "source": [
    "imgs.view(3, -1).mean(dim=1)"
   ]
  },
  {
   "cell_type": "code",
   "execution_count": 20,
   "id": "stuffed-veteran",
   "metadata": {},
   "outputs": [
    {
     "data": {
      "text/plain": [
       "tensor([0.2470, 0.2435, 0.2616])"
      ]
     },
     "execution_count": 20,
     "metadata": {},
     "output_type": "execute_result"
    }
   ],
   "source": [
    "imgs.view(3, -1).std(dim=1)"
   ]
  },
  {
   "cell_type": "code",
   "execution_count": 21,
   "id": "interested-papua",
   "metadata": {},
   "outputs": [
    {
     "data": {
      "text/plain": [
       "Normalize(mean=(0.4915, 0.4823, 0.4468), std=(0.247, 0.2435, 0.2616))"
      ]
     },
     "execution_count": 21,
     "metadata": {},
     "output_type": "execute_result"
    }
   ],
   "source": [
    "transforms.Normalize((0.4915, 0.4823, 0.4468), (0.2470, 0.2435, 0.2616))"
   ]
  },
  {
   "cell_type": "code",
   "execution_count": 22,
   "id": "working-creator",
   "metadata": {},
   "outputs": [],
   "source": [
    "transformed_cifar10 = datasets.CIFAR10(\n",
    "    data_path, train=True, download=False,\n",
    "    transform=transforms.Compose([\n",
    "        transforms.ToTensor(),\n",
    "        transforms.Normalize((0.4915, 0.4823, 0.4468), (0.2470, 0.2435, 0.2616))\n",
    "    ])\n",
    ")"
   ]
  },
  {
   "cell_type": "code",
   "execution_count": 23,
   "id": "laughing-commodity",
   "metadata": {},
   "outputs": [
    {
     "name": "stderr",
     "output_type": "stream",
     "text": [
      "Clipping input data to the valid range for imshow with RGB data ([0..1] for floats or [0..255] for integers).\n"
     ]
    },
    {
     "data": {
      "image/png": "[encoded data removed]",
      "text/plain": [
       "<Figure size 432x288 with 1 Axes>"
      ]
     },
     "metadata": {
      "needs_background": "light"
     },
     "output_type": "display_data"
    }
   ],
   "source": [
    "img_t, _ = transformed_cifar10[99]\n",
    "plt.imshow(img_t.permute(1, 2, 0))\n",
    "plt.show()"
   ]
  },
  {
   "cell_type": "markdown",
   "id": "pending-suicide",
   "metadata": {},
   "source": [
    "## 7.2 Distinguishing birds from airplanes"
   ]
  },
  {
   "cell_type": "code",
   "execution_count": 57,
   "id": "unsigned-excellence",
   "metadata": {},
   "outputs": [],
   "source": [
    "label_map = {0: 0, 2: 1}\n",
    "class_names = ['airplane', 'bird']\n",
    "\n",
    "cifar10 = datasets.CIFAR10(\n",
    "    data_path, train=True, download=False,\n",
    "    transform=transforms.Compose([\n",
    "        transforms.ToTensor(),\n",
    "        transforms.Normalize((0.4915, 0.4823, 0.4468),\n",
    "                             (0.2470, 0.2435, 0.2616))\n",
    "    ]))\n",
    "\n",
    "cifar10_val = datasets.CIFAR10(\n",
    "    data_path, train=False, download=False,\n",
    "    transform=transforms.Compose([\n",
    "        transforms.ToTensor(),\n",
    "        transforms.Normalize((0.4915, 0.4823, 0.4468),\n",
    "                             (0.2470, 0.2435, 0.2616))\n",
    "    ]))"
   ]
  },
  {
   "cell_type": "code",
   "execution_count": 60,
   "id": "incomplete-clinic",
   "metadata": {},
   "outputs": [],
   "source": [
    "label_map = {0: 0, 2: 1}"
   ]
  },
  {
   "cell_type": "code",
   "execution_count": null,
   "id": "split-blanket",
   "metadata": {},
   "outputs": [],
   "source": [
    "cifar2 = [(img, label_map[label])\n",
    "    for img, label in cifar10\n",
    "    if label in [0, 2]\n",
    "]\n",
    "cifar2_val = [(img, label_map[label])\n",
    "    for img, label in cifar10_val\n",
    "    if label in [0, 2]\n",
    "]"
   ]
  },
  {
   "cell_type": "code",
   "execution_count": 61,
   "id": "ethical-shame",
   "metadata": {},
   "outputs": [],
   "source": [
    "n_out = 2\n",
    "\n",
    "model = nn.Sequential(\n",
    "    nn.Linear(3072, 512),\n",
    "    nn.Tanh(),\n",
    "    nn.Linear(512, n_out),\n",
    "    nn.Softmax(dim=1)\n",
    ")"
   ]
  },
  {
   "cell_type": "code",
   "execution_count": 63,
   "id": "tropical-relative",
   "metadata": {},
   "outputs": [
    {
     "name": "stderr",
     "output_type": "stream",
     "text": [
      "Clipping input data to the valid range for imshow with RGB data ([0..1] for floats or [0..255] for integers).\n"
     ]
    },
    {
     "data": {
      "image/png": "[encoded data removed]",
      "text/plain": [
       "<Figure size 432x288 with 1 Axes>"
      ]
     },
     "metadata": {
      "needs_background": "light"
     },
     "output_type": "display_data"
    }
   ],
   "source": [
    "img, _ = cifar2[0]\n",
    "img\n",
    "plt.imshow(img.permute(1, 2, 0))\n",
    "plt.show()"
   ]
  },
  {
   "cell_type": "code",
   "execution_count": 64,
   "id": "abandoned-portland",
   "metadata": {},
   "outputs": [],
   "source": [
    "img_batch = img.view(-1).unsqueeze(0)"
   ]
  },
  {
   "cell_type": "code",
   "execution_count": 65,
   "id": "hazardous-arcade",
   "metadata": {},
   "outputs": [
    {
     "data": {
      "text/plain": [
       "tensor([[0.4080, 0.5920]], grad_fn=<SoftmaxBackward>)"
      ]
     },
     "execution_count": 65,
     "metadata": {},
     "output_type": "execute_result"
    }
   ],
   "source": [
    "out = model(img_batch)\n",
    "out"
   ]
  },
  {
   "cell_type": "code",
   "execution_count": 67,
   "id": "spiritual-colors",
   "metadata": {},
   "outputs": [
    {
     "data": {
      "text/plain": [
       "tensor([1])"
      ]
     },
     "execution_count": 67,
     "metadata": {},
     "output_type": "execute_result"
    }
   ],
   "source": [
    "_, index = torch.max(out, dim=1)\n",
    "index"
   ]
  },
  {
   "cell_type": "code",
   "execution_count": 69,
   "id": "sudden-payroll",
   "metadata": {},
   "outputs": [],
   "source": [
    "model = nn.Sequential(\n",
    "    nn.Linear(3072, 512),\n",
    "    nn.Tanh(),\n",
    "    nn.Linear(512, 2),\n",
    "    nn.LogSoftmax(dim=1)\n",
    ")"
   ]
  },
  {
   "cell_type": "code",
   "execution_count": 70,
   "id": "logical-pepper",
   "metadata": {},
   "outputs": [],
   "source": [
    "loss = nn.NLLLoss()"
   ]
  },
  {
   "cell_type": "code",
   "execution_count": 72,
   "id": "answering-marks",
   "metadata": {},
   "outputs": [
    {
     "data": {
      "text/plain": [
       "tensor(0.8290, grad_fn=<NllLossBackward>)"
      ]
     },
     "execution_count": 72,
     "metadata": {},
     "output_type": "execute_result"
    }
   ],
   "source": [
    "img, label = cifar2[0]\n",
    "out = model(img.view(-1).unsqueeze(0))\n",
    "loss(out, torch.tensor([label]))"
   ]
  },
  {
   "cell_type": "code",
   "execution_count": 80,
   "id": "boxed-richards",
   "metadata": {},
   "outputs": [],
   "source": [
    "train_loader = torch.utils.data.DataLoader(cifar2, batch_size=64, shuffle=True)\n",
    "\n",
    "model = nn.Sequential(\n",
    "    nn.Linear(3072, 512),\n",
    "    nn.Tanh(),\n",
    "    nn.Linear(512, 2),\n",
    "    nn.LogSoftmax(dim=1)\n",
    ")\n",
    "\n",
    "learning_rate = 1e-2\n",
    "optimizer = torch.optim.SGD(model.parameters(), lr=learning_rate)\n",
    "loss_fn = nn.NLLLoss()\n",
    "n_epochs = 100"
   ]
  },
  {
   "cell_type": "code",
   "execution_count": 82,
   "id": "international-trunk",
   "metadata": {},
   "outputs": [
    {
     "name": "stdout",
     "output_type": "stream",
     "text": [
      "Epoch: 0, Loss: 0.436664\n",
      "Epoch: 1, Loss: 0.636299\n",
      "Epoch: 2, Loss: 0.333556\n",
      "Epoch: 3, Loss: 0.508862\n",
      "Epoch: 4, Loss: 0.376987\n",
      "Epoch: 5, Loss: 0.454044\n",
      "Epoch: 6, Loss: 0.338801\n",
      "Epoch: 7, Loss: 0.454610\n",
      "Epoch: 8, Loss: 0.553609\n",
      "Epoch: 9, Loss: 0.333337\n",
      "Epoch: 10, Loss: 0.310631\n",
      "Epoch: 11, Loss: 0.409928\n",
      "Epoch: 12, Loss: 0.518283\n",
      "Epoch: 13, Loss: 0.546941\n",
      "Epoch: 14, Loss: 0.446492\n",
      "Epoch: 15, Loss: 0.265478\n",
      "Epoch: 16, Loss: 0.336106\n",
      "Epoch: 17, Loss: 0.122087\n",
      "Epoch: 18, Loss: 0.209137\n",
      "Epoch: 19, Loss: 0.371351\n",
      "Epoch: 20, Loss: 0.227790\n",
      "Epoch: 21, Loss: 0.330823\n",
      "Epoch: 22, Loss: 0.238231\n",
      "Epoch: 23, Loss: 0.509432\n",
      "Epoch: 24, Loss: 0.184251\n",
      "Epoch: 25, Loss: 0.132178\n",
      "Epoch: 26, Loss: 0.388574\n",
      "Epoch: 27, Loss: 0.139842\n",
      "Epoch: 28, Loss: 0.272047\n",
      "Epoch: 29, Loss: 0.102132\n",
      "Epoch: 30, Loss: 0.078983\n",
      "Epoch: 31, Loss: 0.233821\n",
      "Epoch: 32, Loss: 0.228613\n",
      "Epoch: 33, Loss: 0.270173\n",
      "Epoch: 34, Loss: 0.214290\n",
      "Epoch: 35, Loss: 0.118945\n",
      "Epoch: 36, Loss: 0.059201\n",
      "Epoch: 37, Loss: 0.402442\n",
      "Epoch: 38, Loss: 0.186586\n",
      "Epoch: 39, Loss: 0.079385\n",
      "Epoch: 40, Loss: 0.077591\n",
      "Epoch: 41, Loss: 0.134142\n",
      "Epoch: 42, Loss: 0.043481\n",
      "Epoch: 43, Loss: 0.123303\n",
      "Epoch: 44, Loss: 0.061299\n",
      "Epoch: 45, Loss: 0.059703\n",
      "Epoch: 46, Loss: 0.072265\n",
      "Epoch: 47, Loss: 0.101326\n",
      "Epoch: 48, Loss: 0.035921\n",
      "Epoch: 49, Loss: 0.133181\n",
      "Epoch: 50, Loss: 0.122914\n",
      "Epoch: 51, Loss: 0.047289\n",
      "Epoch: 52, Loss: 0.043899\n",
      "Epoch: 53, Loss: 0.067019\n",
      "Epoch: 54, Loss: 0.035458\n",
      "Epoch: 55, Loss: 0.040608\n",
      "Epoch: 56, Loss: 0.066450\n",
      "Epoch: 57, Loss: 0.032910\n",
      "Epoch: 58, Loss: 0.108233\n",
      "Epoch: 59, Loss: 0.035001\n",
      "Epoch: 60, Loss: 0.058593\n",
      "Epoch: 61, Loss: 0.048189\n",
      "Epoch: 62, Loss: 0.031350\n",
      "Epoch: 63, Loss: 0.082519\n",
      "Epoch: 64, Loss: 0.036902\n",
      "Epoch: 65, Loss: 0.044454\n",
      "Epoch: 66, Loss: 0.038461\n",
      "Epoch: 67, Loss: 0.025266\n",
      "Epoch: 68, Loss: 0.017668\n",
      "Epoch: 69, Loss: 0.108911\n",
      "Epoch: 70, Loss: 0.017987\n",
      "Epoch: 71, Loss: 0.025161\n",
      "Epoch: 72, Loss: 0.005272\n",
      "Epoch: 73, Loss: 0.014136\n",
      "Epoch: 74, Loss: 0.056551\n",
      "Epoch: 75, Loss: 0.053770\n",
      "Epoch: 76, Loss: 0.014257\n",
      "Epoch: 77, Loss: 0.013549\n",
      "Epoch: 78, Loss: 0.024583\n",
      "Epoch: 79, Loss: 0.018149\n",
      "Epoch: 80, Loss: 0.040079\n",
      "Epoch: 81, Loss: 0.005550\n",
      "Epoch: 82, Loss: 0.014124\n",
      "Epoch: 83, Loss: 0.032157\n",
      "Epoch: 84, Loss: 0.066931\n",
      "Epoch: 85, Loss: 0.017550\n",
      "Epoch: 86, Loss: 0.036053\n",
      "Epoch: 87, Loss: 0.003758\n",
      "Epoch: 88, Loss: 0.008454\n",
      "Epoch: 89, Loss: 0.017311\n",
      "Epoch: 90, Loss: 0.013550\n",
      "Epoch: 91, Loss: 0.028791\n",
      "Epoch: 92, Loss: 0.013368\n",
      "Epoch: 93, Loss: 0.001342\n",
      "Epoch: 94, Loss: 0.017256\n",
      "Epoch: 95, Loss: 0.009962\n",
      "Epoch: 96, Loss: 0.018666\n",
      "Epoch: 97, Loss: 0.016743\n",
      "Epoch: 98, Loss: 0.009974\n",
      "Epoch: 99, Loss: 0.010395\n"
     ]
    }
   ],
   "source": [
    "for epoch in range(n_epochs):\n",
    "    for imgs, labels in train_loader:\n",
    "        batch_size = imgs.shape[0]\n",
    "        outputs = model(imgs.view(batch_size, -1))\n",
    "        loss = loss_fn(outputs, labels)\n",
    "        \n",
    "        optimizer.zero_grad()\n",
    "        loss.backward()\n",
    "        optimizer.step()\n",
    "    print(\"Epoch: %d, Loss: %f\" % (epoch, float(loss)))"
   ]
  },
  {
   "cell_type": "code",
   "execution_count": 83,
   "id": "lined-columbus",
   "metadata": {},
   "outputs": [
    {
     "name": "stdout",
     "output_type": "stream",
     "text": [
      "Accuracy: %f 0.822\n"
     ]
    }
   ],
   "source": [
    "val_loader = torch.utils.data.DataLoader(cifar2_val, batch_size=64, shuffle=False)\n",
    "correct = 0\n",
    "total = 0\n",
    "\n",
    "with torch.no_grad():\n",
    "    for imgs, labels in val_loader:\n",
    "        batch_size = imgs.shape[0]\n",
    "        outputs = model(imgs.view(batch_size, -1))\n",
    "        _, predicted = torch.max(outputs, dim=1)\n",
    "        \n",
    "        total += labels.shape[0]\n",
    "        correct += int((predicted == labels).sum())\n",
    "    print(\"Accuracy: %f\", correct / total)"
   ]
  },
  {
   "cell_type": "code",
   "execution_count": 84,
   "id": "composite-haven",
   "metadata": {},
   "outputs": [],
   "source": [
    "model = nn.Sequential(\n",
    "    nn.Linear(3072, 1024),\n",
    "    nn.Tanh(),\n",
    "    nn.Linear(1024, 512),\n",
    "    nn.Tanh(),\n",
    "    nn.Linear(512, 128),\n",
    "    nn.Tanh(),\n",
    "    nn.Linear(128, 2),\n",
    "    nn.LogSoftmax(dim=1))"
   ]
  },
  {
   "cell_type": "code",
   "execution_count": 87,
   "id": "consistent-package",
   "metadata": {},
   "outputs": [],
   "source": [
    "model = nn.Sequential(\n",
    "    nn.Linear(3072, 1024),\n",
    "    nn.Tanh(),\n",
    "    nn.Linear(1024, 512),\n",
    "    nn.Tanh(),\n",
    "    nn.Linear(512, 128),\n",
    "    nn.Tanh(),\n",
    "    nn.Linear(128, 2)\n",
    ")\n",
    "loss_fn = nn.CrossEntropyLoss()"
   ]
  },
  {
   "cell_type": "code",
   "execution_count": 89,
   "id": "elder-guatemala",
   "metadata": {},
   "outputs": [
    {
     "data": {
      "text/plain": [
       "(3737474, [3145728, 1024, 524288, 512, 65536, 128, 256, 2])"
      ]
     },
     "execution_count": 89,
     "metadata": {},
     "output_type": "execute_result"
    }
   ],
   "source": [
    "numel_list = [p.numel()\n",
    "    for p in model.parameters()\n",
    "        if p.requires_grad == True]\n",
    "sum(numel_list), numel_list"
   ]
  },
  {
   "cell_type": "code",
   "execution_count": 95,
   "id": "naked-nancy",
   "metadata": {},
   "outputs": [
    {
     "name": "stdout",
     "output_type": "stream",
     "text": [
      "Epoch: 0, Loss: 0.593212\n",
      "Epoch: 1, Loss: 0.343772\n",
      "Epoch: 2, Loss: 0.331254\n",
      "Epoch: 3, Loss: 0.231917\n",
      "Epoch: 4, Loss: 0.218788\n",
      "Epoch: 5, Loss: 0.291905\n",
      "Epoch: 6, Loss: 0.453546\n",
      "Epoch: 7, Loss: 0.332087\n",
      "Epoch: 8, Loss: 0.301313\n",
      "Epoch: 9, Loss: 0.776738\n",
      "Epoch: 10, Loss: 0.280469\n",
      "Epoch: 11, Loss: 0.606748\n",
      "Epoch: 12, Loss: 0.636134\n",
      "Epoch: 13, Loss: 0.224692\n",
      "Epoch: 14, Loss: 0.303341\n",
      "Epoch: 15, Loss: 0.172704\n",
      "Epoch: 16, Loss: 0.333430\n",
      "Epoch: 17, Loss: 0.266715\n",
      "Epoch: 18, Loss: 0.483885\n",
      "Epoch: 19, Loss: 0.147920\n",
      "Epoch: 20, Loss: 0.165667\n",
      "Epoch: 21, Loss: 0.186220\n",
      "Epoch: 22, Loss: 0.447807\n",
      "Epoch: 23, Loss: 0.301875\n",
      "Epoch: 24, Loss: 0.120106\n",
      "Epoch: 25, Loss: 0.479810\n",
      "Epoch: 26, Loss: 0.297185\n",
      "Epoch: 27, Loss: 0.249348\n",
      "Epoch: 28, Loss: 0.379552\n",
      "Epoch: 29, Loss: 0.049805\n",
      "Epoch: 30, Loss: 0.149588\n",
      "Epoch: 31, Loss: 0.226848\n",
      "Epoch: 32, Loss: 0.096227\n",
      "Epoch: 33, Loss: 0.293476\n",
      "Epoch: 34, Loss: 0.080667\n",
      "Epoch: 35, Loss: 0.045969\n",
      "Epoch: 36, Loss: 0.503711\n",
      "Epoch: 37, Loss: 0.095853\n",
      "Epoch: 38, Loss: 0.255795\n",
      "Epoch: 39, Loss: 0.474616\n",
      "Epoch: 40, Loss: 0.024245\n",
      "Epoch: 41, Loss: 0.120051\n",
      "Epoch: 42, Loss: 0.081474\n",
      "Epoch: 43, Loss: 0.030884\n",
      "Epoch: 44, Loss: 0.019698\n",
      "Epoch: 45, Loss: 0.030588\n",
      "Epoch: 46, Loss: 0.056666\n",
      "Epoch: 47, Loss: 0.036843\n",
      "Epoch: 48, Loss: 0.090214\n",
      "Epoch: 49, Loss: 0.033551\n",
      "Epoch: 50, Loss: 0.019251\n",
      "Epoch: 51, Loss: 0.017223\n",
      "Epoch: 52, Loss: 0.202956\n",
      "Epoch: 53, Loss: 0.028849\n",
      "Epoch: 54, Loss: 0.007468\n",
      "Epoch: 55, Loss: 0.014180\n",
      "Epoch: 56, Loss: 0.007121\n",
      "Epoch: 57, Loss: 0.011027\n",
      "Epoch: 58, Loss: 0.110366\n",
      "Epoch: 59, Loss: 0.005442\n",
      "Epoch: 60, Loss: 0.259330\n",
      "Epoch: 61, Loss: 0.128260\n",
      "Epoch: 62, Loss: 0.003437\n",
      "Epoch: 63, Loss: 0.012861\n",
      "Epoch: 64, Loss: 0.001421\n",
      "Epoch: 65, Loss: 0.060048\n",
      "Epoch: 66, Loss: 0.019441\n",
      "Epoch: 67, Loss: 0.040770\n",
      "Epoch: 68, Loss: 0.000236\n",
      "Epoch: 69, Loss: 0.006123\n",
      "Epoch: 70, Loss: 0.053290\n",
      "Epoch: 71, Loss: 0.004327\n",
      "Epoch: 72, Loss: 0.018793\n",
      "Epoch: 73, Loss: 0.001937\n",
      "Epoch: 74, Loss: 0.001705\n",
      "Epoch: 75, Loss: 0.000200\n",
      "Epoch: 76, Loss: 0.128618\n",
      "Epoch: 77, Loss: 0.001365\n",
      "Epoch: 78, Loss: 0.001167\n",
      "Epoch: 79, Loss: 0.012588\n",
      "Epoch: 80, Loss: 0.002786\n",
      "Epoch: 81, Loss: 0.001924\n",
      "Epoch: 82, Loss: 0.001754\n",
      "Epoch: 83, Loss: 0.000851\n",
      "Epoch: 84, Loss: 0.002647\n",
      "Epoch: 85, Loss: 0.001320\n",
      "Epoch: 86, Loss: 0.002122\n",
      "Epoch: 87, Loss: 0.012919\n",
      "Epoch: 88, Loss: 0.004334\n",
      "Epoch: 89, Loss: 0.013546\n",
      "Epoch: 90, Loss: 0.002993\n",
      "Epoch: 91, Loss: 0.004830\n",
      "Epoch: 92, Loss: 0.005954\n",
      "Epoch: 93, Loss: 0.001381\n",
      "Epoch: 94, Loss: 0.001026\n",
      "Epoch: 95, Loss: 0.001193\n",
      "Epoch: 96, Loss: 0.001535\n",
      "Epoch: 97, Loss: 0.001193\n",
      "Epoch: 98, Loss: 0.001129\n",
      "Epoch: 99, Loss: 0.002410\n"
     ]
    }
   ],
   "source": [
    "model = nn.Sequential(\n",
    "            nn.Linear(3072, 1024),\n",
    "            nn.Tanh(),\n",
    "            nn.Linear(1024, 512),\n",
    "            nn.Tanh(),\n",
    "            nn.Linear(512, 128),\n",
    "            nn.Tanh(),\n",
    "            nn.Linear(128, 2))\n",
    "\n",
    "loss_fn = nn.CrossEntropyLoss()\n",
    "\n",
    "train_loader = torch.utils.data.DataLoader(cifar2, batch_size=64, shuffle=True)\n",
    "\n",
    "learning_rate = 1e-2\n",
    "optimizer = torch.optim.SGD(model.parameters(), lr=learning_rate)\n",
    "loss_fn = nn.CrossEntropyLoss()\n",
    "n_epochs = 100\n",
    "\n",
    "for epoch in range(n_epochs):\n",
    "    for imgs, labels in train_loader:\n",
    "        outputs = model(imgs.view(imgs.shape[0], -1))\n",
    "        loss = loss_fn(outputs, labels)\n",
    "\n",
    "        optimizer.zero_grad()\n",
    "        loss.backward()\n",
    "        optimizer.step()\n",
    "\n",
    "    print(\"Epoch: %d, Loss: %f\" % (epoch, float(loss)))"
   ]
  },
  {
   "cell_type": "markdown",
   "id": "outdoor-filling",
   "metadata": {},
   "source": [
    "## 1. Use torchvision to implement random cropping of the data.\n",
    "### a. How are the resulting images different from the uncropped originals?\n",
    "It is cropped at a random position, with the given size 24x24.\n",
    "### b. What happens when you request the same image a second time?\n",
    "It has already been cropped.\n",
    "### c. What is the result of training using randomly cropped images?\n",
    "It learns slower, because of the loss of inputs. Its accuracy fell from 82.2% to 78.7%."
   ]
  },
  {
   "cell_type": "code",
   "execution_count": 129,
   "id": "special-running",
   "metadata": {},
   "outputs": [
    {
     "name": "stdout",
     "output_type": "stream",
     "text": [
      "Files already downloaded and verified\n",
      "Files already downloaded and verified\n"
     ]
    }
   ],
   "source": [
    "from torchvision import datasets\n",
    "from torchvision import transforms\n",
    "data_path = 'data/photos/cifar10/'\n",
    "\n",
    "ex_cifar10 = datasets.CIFAR10(data_path, train=True, download=True)\n",
    "ex_cifar10_val = datasets.CIFAR10(data_path, train=False, download=True)\n",
    "\n",
    "trans_ex_cifar10 = datasets.CIFAR10(\n",
    "    data_path, train=True, download=False,\n",
    "    transform=transforms.Compose([\n",
    "        transforms.ToTensor(),\n",
    "        transforms.RandomCrop(24),\n",
    "        transforms.Normalize((0.4915, 0.4823, 0.4468), (0.2470, 0.2435, 0.2616))\n",
    "    ])\n",
    ")\n",
    "trans_ex_cifar10_val = datasets.CIFAR10(\n",
    "    data_path, train=False, download=False,\n",
    "    transform=transforms.Compose([\n",
    "        transforms.ToTensor(),\n",
    "        transforms.RandomCrop(24),\n",
    "        transforms.Normalize((0.4915, 0.4823, 0.4468), (0.2470, 0.2435, 0.2616))\n",
    "    ])\n",
    ")\n",
    "\n",
    "class_names = ['airplane','automobile','bird','cat','deer', 'dog','frog','horse','ship','truck']"
   ]
  },
  {
   "cell_type": "code",
   "execution_count": 130,
   "id": "certain-spencer",
   "metadata": {},
   "outputs": [],
   "source": [
    "label_map = {0: 0, 2: 1}\n",
    "class_names = ['airplane', 'bird']\n",
    "\n",
    "ex_cifar2 = [(img, label_map[label])\n",
    "    for img, label in ex_cifar10\n",
    "    if label in [0, 2]\n",
    "]\n",
    "ex_cifar2_val = [(img, label_map[label])\n",
    "    for img, label in ex_cifar10_val\n",
    "    if label in [0, 2]\n",
    "]\n",
    "trans_ex_cifar2 = [(img, label_map[label])\n",
    "    for img, label in trans_ex_cifar10\n",
    "    if label in [0, 2]\n",
    "]\n",
    "trans_ex_cifar2_val = [(img, label_map[label])\n",
    "    for img, label in trans_ex_cifar10_val\n",
    "    if label in [0, 2]\n",
    "]"
   ]
  },
  {
   "cell_type": "code",
   "execution_count": 131,
   "id": "invisible-listening",
   "metadata": {},
   "outputs": [
    {
     "name": "stderr",
     "output_type": "stream",
     "text": [
      "Clipping input data to the valid range for imshow with RGB data ([0..1] for floats or [0..255] for integers).\n"
     ]
    },
    {
     "data": {
      "image/png": "[encoded data removed]",
      "text/plain": [
       "<Figure size 432x288 with 1 Axes>"
      ]
     },
     "metadata": {
      "needs_background": "light"
     },
     "output_type": "display_data"
    },
    {
     "data": {
      "text/plain": [
       "<matplotlib.image.AxesImage at 0x1961f808fa0>"
      ]
     },
     "execution_count": 131,
     "metadata": {},
     "output_type": "execute_result"
    },
    {
     "data": {
      "image/png": "[encoded data removed]",
      "text/plain": [
       "<Figure size 432x288 with 1 Axes>"
      ]
     },
     "metadata": {
      "needs_background": "light"
     },
     "output_type": "display_data"
    }
   ],
   "source": [
    "img, _ = trans_ex_cifar2[0]\n",
    "\n",
    "plt.imshow(img.permute(1, 2, 0))\n",
    "plt.show()\n",
    "\n",
    "img_2, _ = ex_cifar2[0]\n",
    "plt.imshow(img_2)"
   ]
  },
  {
   "cell_type": "code",
   "execution_count": 133,
   "id": "individual-given",
   "metadata": {},
   "outputs": [
    {
     "name": "stdout",
     "output_type": "stream",
     "text": [
      "Epoch: 0, Loss: 0.396793\n",
      "Epoch: 1, Loss: 0.553475\n",
      "Epoch: 2, Loss: 0.213062\n",
      "Epoch: 3, Loss: 0.441179\n",
      "Epoch: 4, Loss: 0.948763\n",
      "Epoch: 5, Loss: 0.496299\n",
      "Epoch: 6, Loss: 0.255522\n",
      "Epoch: 7, Loss: 0.491535\n",
      "Epoch: 8, Loss: 0.533041\n",
      "Epoch: 9, Loss: 0.485353\n",
      "Epoch: 10, Loss: 0.362708\n",
      "Epoch: 11, Loss: 0.136792\n",
      "Epoch: 12, Loss: 0.493720\n",
      "Epoch: 13, Loss: 0.305119\n",
      "Epoch: 14, Loss: 0.482004\n",
      "Epoch: 15, Loss: 0.276882\n",
      "Epoch: 16, Loss: 0.357678\n",
      "Epoch: 17, Loss: 0.208348\n",
      "Epoch: 18, Loss: 0.474925\n",
      "Epoch: 19, Loss: 0.342854\n",
      "Epoch: 20, Loss: 0.268041\n",
      "Epoch: 21, Loss: 0.558606\n",
      "Epoch: 22, Loss: 0.648115\n",
      "Epoch: 23, Loss: 0.235992\n",
      "Epoch: 24, Loss: 0.595192\n",
      "Epoch: 25, Loss: 0.216520\n",
      "Epoch: 26, Loss: 0.437439\n",
      "Epoch: 27, Loss: 0.227655\n",
      "Epoch: 28, Loss: 0.186805\n",
      "Epoch: 29, Loss: 0.347439\n",
      "Epoch: 30, Loss: 0.315216\n",
      "Epoch: 31, Loss: 0.253007\n",
      "Epoch: 32, Loss: 0.251036\n",
      "Epoch: 33, Loss: 0.407110\n",
      "Epoch: 34, Loss: 0.208964\n",
      "Epoch: 35, Loss: 0.158125\n",
      "Epoch: 36, Loss: 0.148769\n",
      "Epoch: 37, Loss: 0.196071\n",
      "Epoch: 38, Loss: 0.312910\n",
      "Epoch: 39, Loss: 0.279328\n",
      "Epoch: 40, Loss: 0.104211\n",
      "Epoch: 41, Loss: 0.058877\n",
      "Epoch: 42, Loss: 0.149312\n",
      "Epoch: 43, Loss: 0.118857\n",
      "Epoch: 44, Loss: 0.109304\n",
      "Epoch: 45, Loss: 0.105187\n",
      "Epoch: 46, Loss: 0.376751\n",
      "Epoch: 47, Loss: 0.082726\n",
      "Epoch: 48, Loss: 0.020613\n",
      "Epoch: 49, Loss: 0.035968\n",
      "Epoch: 50, Loss: 0.026649\n",
      "Epoch: 51, Loss: 0.225205\n",
      "Epoch: 52, Loss: 0.070743\n",
      "Epoch: 53, Loss: 0.032177\n",
      "Epoch: 54, Loss: 0.051529\n",
      "Epoch: 55, Loss: 0.041324\n",
      "Epoch: 56, Loss: 0.046179\n",
      "Epoch: 57, Loss: 0.013314\n",
      "Epoch: 58, Loss: 0.066171\n",
      "Epoch: 59, Loss: 0.072195\n",
      "Epoch: 60, Loss: 0.037473\n",
      "Epoch: 61, Loss: 0.018645\n",
      "Epoch: 62, Loss: 0.173255\n",
      "Epoch: 63, Loss: 0.040542\n",
      "Epoch: 64, Loss: 0.023604\n",
      "Epoch: 65, Loss: 0.013998\n",
      "Epoch: 66, Loss: 0.211273\n",
      "Epoch: 67, Loss: 0.037947\n",
      "Epoch: 68, Loss: 0.004364\n",
      "Epoch: 69, Loss: 0.054035\n",
      "Epoch: 70, Loss: 0.004850\n",
      "Epoch: 71, Loss: 0.014963\n",
      "Epoch: 72, Loss: 0.001450\n",
      "Epoch: 73, Loss: 0.025676\n",
      "Epoch: 74, Loss: 0.004226\n",
      "Epoch: 75, Loss: 0.032308\n",
      "Epoch: 76, Loss: 0.097771\n",
      "Epoch: 77, Loss: 0.015982\n",
      "Epoch: 78, Loss: 0.000891\n",
      "Epoch: 79, Loss: 0.000949\n",
      "Epoch: 80, Loss: 0.005209\n",
      "Epoch: 81, Loss: 0.061138\n",
      "Epoch: 82, Loss: 0.006472\n",
      "Epoch: 83, Loss: 0.008322\n",
      "Epoch: 84, Loss: 0.002073\n",
      "Epoch: 85, Loss: 0.002428\n",
      "Epoch: 86, Loss: 0.004655\n",
      "Epoch: 87, Loss: 0.004815\n",
      "Epoch: 88, Loss: 0.014402\n",
      "Epoch: 89, Loss: 0.008295\n",
      "Epoch: 90, Loss: 0.003321\n",
      "Epoch: 91, Loss: 0.001862\n",
      "Epoch: 92, Loss: 0.002298\n",
      "Epoch: 93, Loss: 0.001926\n",
      "Epoch: 94, Loss: 0.000984\n",
      "Epoch: 95, Loss: 0.001438\n",
      "Epoch: 96, Loss: 0.000716\n",
      "Epoch: 97, Loss: 0.001040\n",
      "Epoch: 98, Loss: 0.001885\n",
      "Epoch: 99, Loss: 0.001357\n"
     ]
    }
   ],
   "source": [
    "model = nn.Sequential(\n",
    "            nn.Linear(1728, 1024),\n",
    "            nn.Tanh(),\n",
    "            nn.Linear(1024, 512),\n",
    "            nn.Tanh(),\n",
    "            nn.Linear(512, 128),\n",
    "            nn.Tanh(),\n",
    "            nn.Linear(128, 2))\n",
    "\n",
    "loss_fn = nn.CrossEntropyLoss()\n",
    "\n",
    "train_loader = torch.utils.data.DataLoader(trans_ex_cifar2, batch_size=64, shuffle=True)\n",
    "\n",
    "learning_rate = 1e-2\n",
    "optimizer = torch.optim.SGD(model.parameters(), lr=learning_rate)\n",
    "loss_fn = nn.CrossEntropyLoss()\n",
    "n_epochs = 100\n",
    "\n",
    "for epoch in range(n_epochs):\n",
    "    for imgs, labels in train_loader:\n",
    "        outputs = model(imgs.view(imgs.shape[0], -1))\n",
    "        loss = loss_fn(outputs, labels)\n",
    "\n",
    "        optimizer.zero_grad()\n",
    "        loss.backward()\n",
    "        optimizer.step()\n",
    "\n",
    "    print(\"Epoch: %d, Loss: %f\" % (epoch, float(loss)))"
   ]
  },
  {
   "cell_type": "code",
   "execution_count": 134,
   "id": "convinced-vinyl",
   "metadata": {},
   "outputs": [
    {
     "name": "stdout",
     "output_type": "stream",
     "text": [
      "Accuracy: %f 0.7865\n"
     ]
    }
   ],
   "source": [
    "val_loader = torch.utils.data.DataLoader(trans_ex_cifar2_val, batch_size=64, shuffle=False)\n",
    "correct = 0\n",
    "total = 0\n",
    "\n",
    "with torch.no_grad():\n",
    "    for imgs, labels in val_loader:\n",
    "        batch_size = imgs.shape[0]\n",
    "        outputs = model(imgs.view(batch_size, -1))\n",
    "        _, predicted = torch.max(outputs, dim=1)\n",
    "        \n",
    "        total += labels.shape[0]\n",
    "        correct += int((predicted == labels).sum())\n",
    "    print(\"Accuracy: %f\", correct / total)"
   ]
  },
  {
   "cell_type": "markdown",
   "id": "handmade-digit",
   "metadata": {},
   "source": [
    "## 2. Switch loss functions (perhaps MSE).\n",
    "### Does the training behavior change?"
   ]
  },
  {
   "cell_type": "code",
   "execution_count": 164,
   "id": "experimental-moses",
   "metadata": {},
   "outputs": [
    {
     "name": "stdout",
     "output_type": "stream",
     "text": [
      "Epoch: 0, Loss: 0.513458\n",
      "Epoch: 1, Loss: 0.418693\n",
      "Epoch: 2, Loss: 0.646755\n",
      "Epoch: 3, Loss: 0.384963\n",
      "Epoch: 4, Loss: 0.569725\n",
      "Epoch: 5, Loss: 0.435284\n",
      "Epoch: 6, Loss: 0.373274\n",
      "Epoch: 7, Loss: 0.450445\n",
      "Epoch: 8, Loss: 0.491275\n",
      "Epoch: 9, Loss: 0.456076\n",
      "Epoch: 10, Loss: 0.426660\n",
      "Epoch: 11, Loss: 0.338811\n",
      "Epoch: 12, Loss: 0.392339\n",
      "Epoch: 13, Loss: 0.332771\n",
      "Epoch: 14, Loss: 0.377429\n",
      "Epoch: 15, Loss: 0.371853\n"
     ]
    },
    {
     "ename": "KeyboardInterrupt",
     "evalue": "",
     "output_type": "error",
     "traceback": [
      "\u001b[1;31m---------------------------------------------------------------------------\u001b[0m",
      "\u001b[1;31mKeyboardInterrupt\u001b[0m                         Traceback (most recent call last)",
      "\u001b[1;32m<ipython-input-164-84cb890c8f76>\u001b[0m in \u001b[0;36m<module>\u001b[1;34m\u001b[0m\n\u001b[0;32m     21\u001b[0m \u001b[1;33m\u001b[0m\u001b[0m\n\u001b[0;32m     22\u001b[0m         \u001b[0moptimizer\u001b[0m\u001b[1;33m.\u001b[0m\u001b[0mzero_grad\u001b[0m\u001b[1;33m(\u001b[0m\u001b[1;33m)\u001b[0m\u001b[1;33m\u001b[0m\u001b[1;33m\u001b[0m\u001b[0m\n\u001b[1;32m---> 23\u001b[1;33m         \u001b[0mloss\u001b[0m\u001b[1;33m.\u001b[0m\u001b[0mbackward\u001b[0m\u001b[1;33m(\u001b[0m\u001b[1;33m)\u001b[0m\u001b[1;33m\u001b[0m\u001b[1;33m\u001b[0m\u001b[0m\n\u001b[0m\u001b[0;32m     24\u001b[0m         \u001b[0moptimizer\u001b[0m\u001b[1;33m.\u001b[0m\u001b[0mstep\u001b[0m\u001b[1;33m(\u001b[0m\u001b[1;33m)\u001b[0m\u001b[1;33m\u001b[0m\u001b[1;33m\u001b[0m\u001b[0m\n\u001b[0;32m     25\u001b[0m \u001b[1;33m\u001b[0m\u001b[0m\n",
      "\u001b[1;32mC:\\Program Files\\Python39\\lib\\site-packages\\torch\\tensor.py\u001b[0m in \u001b[0;36mbackward\u001b[1;34m(self, gradient, retain_graph, create_graph, inputs)\u001b[0m\n\u001b[0;32m    243\u001b[0m                 \u001b[0mcreate_graph\u001b[0m\u001b[1;33m=\u001b[0m\u001b[0mcreate_graph\u001b[0m\u001b[1;33m,\u001b[0m\u001b[1;33m\u001b[0m\u001b[1;33m\u001b[0m\u001b[0m\n\u001b[0;32m    244\u001b[0m                 inputs=inputs)\n\u001b[1;32m--> 245\u001b[1;33m         \u001b[0mtorch\u001b[0m\u001b[1;33m.\u001b[0m\u001b[0mautograd\u001b[0m\u001b[1;33m.\u001b[0m\u001b[0mbackward\u001b[0m\u001b[1;33m(\u001b[0m\u001b[0mself\u001b[0m\u001b[1;33m,\u001b[0m \u001b[0mgradient\u001b[0m\u001b[1;33m,\u001b[0m \u001b[0mretain_graph\u001b[0m\u001b[1;33m,\u001b[0m \u001b[0mcreate_graph\u001b[0m\u001b[1;33m,\u001b[0m \u001b[0minputs\u001b[0m\u001b[1;33m=\u001b[0m\u001b[0minputs\u001b[0m\u001b[1;33m)\u001b[0m\u001b[1;33m\u001b[0m\u001b[1;33m\u001b[0m\u001b[0m\n\u001b[0m\u001b[0;32m    246\u001b[0m \u001b[1;33m\u001b[0m\u001b[0m\n\u001b[0;32m    247\u001b[0m     \u001b[1;32mdef\u001b[0m \u001b[0mregister_hook\u001b[0m\u001b[1;33m(\u001b[0m\u001b[0mself\u001b[0m\u001b[1;33m,\u001b[0m \u001b[0mhook\u001b[0m\u001b[1;33m)\u001b[0m\u001b[1;33m:\u001b[0m\u001b[1;33m\u001b[0m\u001b[1;33m\u001b[0m\u001b[0m\n",
      "\u001b[1;32mC:\\Program Files\\Python39\\lib\\site-packages\\torch\\autograd\\__init__.py\u001b[0m in \u001b[0;36mbackward\u001b[1;34m(tensors, grad_tensors, retain_graph, create_graph, grad_variables, inputs)\u001b[0m\n\u001b[0;32m    143\u001b[0m         \u001b[0mretain_graph\u001b[0m \u001b[1;33m=\u001b[0m \u001b[0mcreate_graph\u001b[0m\u001b[1;33m\u001b[0m\u001b[1;33m\u001b[0m\u001b[0m\n\u001b[0;32m    144\u001b[0m \u001b[1;33m\u001b[0m\u001b[0m\n\u001b[1;32m--> 145\u001b[1;33m     Variable._execution_engine.run_backward(\n\u001b[0m\u001b[0;32m    146\u001b[0m         \u001b[0mtensors\u001b[0m\u001b[1;33m,\u001b[0m \u001b[0mgrad_tensors_\u001b[0m\u001b[1;33m,\u001b[0m \u001b[0mretain_graph\u001b[0m\u001b[1;33m,\u001b[0m \u001b[0mcreate_graph\u001b[0m\u001b[1;33m,\u001b[0m \u001b[0minputs\u001b[0m\u001b[1;33m,\u001b[0m\u001b[1;33m\u001b[0m\u001b[1;33m\u001b[0m\u001b[0m\n\u001b[0;32m    147\u001b[0m         allow_unreachable=True, accumulate_grad=True)  # allow_unreachable flag\n",
      "\u001b[1;31mKeyboardInterrupt\u001b[0m: "
     ]
    }
   ],
   "source": [
    "model = nn.Sequential(\n",
    "            nn.Linear(1728, 512),\n",
    "            nn.Tanh(),\n",
    "            nn.Linear(512, 128),\n",
    "            nn.Tanh(),\n",
    "            nn.Linear(128, 32),\n",
    "            nn.Tanh(),\n",
    "            nn.Linear(32, 2))\n",
    "\n",
    "train_loader = torch.utils.data.DataLoader(trans_ex_cifar2, batch_size=64, shuffle=True)\n",
    "\n",
    "learning_rate = 1e-2\n",
    "optimizer = torch.optim.SGD(model.parameters(), lr=learning_rate)\n",
    "loss_fn = nn.CrossEntropyLoss()\n",
    "n_epochs = 100\n",
    "\n",
    "for epoch in range(n_epochs):\n",
    "    for imgs, labels in train_loader:\n",
    "        outputs = model(imgs.view(imgs.shape[0], -1))\n",
    "        loss = loss_fn(outputs, labels)\n",
    "\n",
    "        optimizer.zero_grad()\n",
    "        loss.backward()\n",
    "        optimizer.step()\n",
    "\n",
    "    print(\"Epoch: %d, Loss: %f\" % (epoch, float(loss)))"
   ]
  },
  {
   "cell_type": "code",
   "execution_count": null,
   "id": "cubic-neighbor",
   "metadata": {},
   "outputs": [],
   "source": [
    "val_loader = torch.utils.data.DataLoader(trans_ex_cifar2_val, batch_size=64, shuffle=False)\n",
    "\n",
    "correct = 0\n",
    "total = 0\n",
    "\n",
    "with torch.no_grad():\n",
    "    for imgs, labels in val_loader:\n",
    "        batch_size = imgs.shape[0]\n",
    "        outputs = model(imgs.view(batch_size, -1))\n",
    "        _, predicted = torch.max(outputs, dim=1)\n",
    "        \n",
    "        total += labels.shape[0]\n",
    "        correct += int((predicted == labels).sum())\n",
    "    print(\"Accuracy: %f\", correct / total)"
   ]
  },
  {
   "cell_type": "code",
   "execution_count": 163,
   "id": "tamil-limit",
   "metadata": {},
   "outputs": [
    {
     "ename": "RuntimeError",
     "evalue": "The size of tensor a (2) must match the size of tensor b (64) at non-singleton dimension 1",
     "output_type": "error",
     "traceback": [
      "\u001b[1;31m---------------------------------------------------------------------------\u001b[0m",
      "\u001b[1;31mRuntimeError\u001b[0m                              Traceback (most recent call last)",
      "\u001b[1;32m<ipython-input-163-856e1623d9c7>\u001b[0m in \u001b[0;36m<module>\u001b[1;34m\u001b[0m\n\u001b[0;32m     20\u001b[0m     \u001b[1;32mfor\u001b[0m \u001b[0mimgs\u001b[0m\u001b[1;33m,\u001b[0m \u001b[0mlabels\u001b[0m \u001b[1;32min\u001b[0m \u001b[0mtrain_loader\u001b[0m\u001b[1;33m:\u001b[0m\u001b[1;33m\u001b[0m\u001b[1;33m\u001b[0m\u001b[0m\n\u001b[0;32m     21\u001b[0m         \u001b[0moutputs\u001b[0m \u001b[1;33m=\u001b[0m \u001b[0mmodel\u001b[0m\u001b[1;33m(\u001b[0m\u001b[0mimgs\u001b[0m\u001b[1;33m.\u001b[0m\u001b[0mview\u001b[0m\u001b[1;33m(\u001b[0m\u001b[0mimgs\u001b[0m\u001b[1;33m.\u001b[0m\u001b[0mshape\u001b[0m\u001b[1;33m[\u001b[0m\u001b[1;36m0\u001b[0m\u001b[1;33m]\u001b[0m\u001b[1;33m,\u001b[0m \u001b[1;33m-\u001b[0m\u001b[1;36m1\u001b[0m\u001b[1;33m)\u001b[0m\u001b[1;33m)\u001b[0m\u001b[1;33m\u001b[0m\u001b[1;33m\u001b[0m\u001b[0m\n\u001b[1;32m---> 22\u001b[1;33m         \u001b[0mloss\u001b[0m \u001b[1;33m=\u001b[0m \u001b[0mloss_fn\u001b[0m\u001b[1;33m(\u001b[0m\u001b[0moutputs\u001b[0m\u001b[1;33m,\u001b[0m \u001b[0mlabels\u001b[0m\u001b[1;33m)\u001b[0m\u001b[1;33m\u001b[0m\u001b[1;33m\u001b[0m\u001b[0m\n\u001b[0m\u001b[0;32m     23\u001b[0m \u001b[1;33m\u001b[0m\u001b[0m\n\u001b[0;32m     24\u001b[0m         \u001b[0moptimizer\u001b[0m\u001b[1;33m.\u001b[0m\u001b[0mzero_grad\u001b[0m\u001b[1;33m(\u001b[0m\u001b[1;33m)\u001b[0m\u001b[1;33m\u001b[0m\u001b[1;33m\u001b[0m\u001b[0m\n",
      "\u001b[1;32mC:\\Program Files\\Python39\\lib\\site-packages\\torch\\nn\\modules\\module.py\u001b[0m in \u001b[0;36m_call_impl\u001b[1;34m(self, *input, **kwargs)\u001b[0m\n\u001b[0;32m    887\u001b[0m             \u001b[0mresult\u001b[0m \u001b[1;33m=\u001b[0m \u001b[0mself\u001b[0m\u001b[1;33m.\u001b[0m\u001b[0m_slow_forward\u001b[0m\u001b[1;33m(\u001b[0m\u001b[1;33m*\u001b[0m\u001b[0minput\u001b[0m\u001b[1;33m,\u001b[0m \u001b[1;33m**\u001b[0m\u001b[0mkwargs\u001b[0m\u001b[1;33m)\u001b[0m\u001b[1;33m\u001b[0m\u001b[1;33m\u001b[0m\u001b[0m\n\u001b[0;32m    888\u001b[0m         \u001b[1;32melse\u001b[0m\u001b[1;33m:\u001b[0m\u001b[1;33m\u001b[0m\u001b[1;33m\u001b[0m\u001b[0m\n\u001b[1;32m--> 889\u001b[1;33m             \u001b[0mresult\u001b[0m \u001b[1;33m=\u001b[0m \u001b[0mself\u001b[0m\u001b[1;33m.\u001b[0m\u001b[0mforward\u001b[0m\u001b[1;33m(\u001b[0m\u001b[1;33m*\u001b[0m\u001b[0minput\u001b[0m\u001b[1;33m,\u001b[0m \u001b[1;33m**\u001b[0m\u001b[0mkwargs\u001b[0m\u001b[1;33m)\u001b[0m\u001b[1;33m\u001b[0m\u001b[1;33m\u001b[0m\u001b[0m\n\u001b[0m\u001b[0;32m    890\u001b[0m         for hook in itertools.chain(\n\u001b[0;32m    891\u001b[0m                 \u001b[0m_global_forward_hooks\u001b[0m\u001b[1;33m.\u001b[0m\u001b[0mvalues\u001b[0m\u001b[1;33m(\u001b[0m\u001b[1;33m)\u001b[0m\u001b[1;33m,\u001b[0m\u001b[1;33m\u001b[0m\u001b[1;33m\u001b[0m\u001b[0m\n",
      "\u001b[1;32mC:\\Program Files\\Python39\\lib\\site-packages\\torch\\nn\\modules\\loss.py\u001b[0m in \u001b[0;36mforward\u001b[1;34m(self, input, target)\u001b[0m\n\u001b[0;32m    526\u001b[0m \u001b[1;33m\u001b[0m\u001b[0m\n\u001b[0;32m    527\u001b[0m     \u001b[1;32mdef\u001b[0m \u001b[0mforward\u001b[0m\u001b[1;33m(\u001b[0m\u001b[0mself\u001b[0m\u001b[1;33m,\u001b[0m \u001b[0minput\u001b[0m\u001b[1;33m:\u001b[0m \u001b[0mTensor\u001b[0m\u001b[1;33m,\u001b[0m \u001b[0mtarget\u001b[0m\u001b[1;33m:\u001b[0m \u001b[0mTensor\u001b[0m\u001b[1;33m)\u001b[0m \u001b[1;33m->\u001b[0m \u001b[0mTensor\u001b[0m\u001b[1;33m:\u001b[0m\u001b[1;33m\u001b[0m\u001b[1;33m\u001b[0m\u001b[0m\n\u001b[1;32m--> 528\u001b[1;33m         \u001b[1;32mreturn\u001b[0m \u001b[0mF\u001b[0m\u001b[1;33m.\u001b[0m\u001b[0mmse_loss\u001b[0m\u001b[1;33m(\u001b[0m\u001b[0minput\u001b[0m\u001b[1;33m,\u001b[0m \u001b[0mtarget\u001b[0m\u001b[1;33m,\u001b[0m \u001b[0mreduction\u001b[0m\u001b[1;33m=\u001b[0m\u001b[0mself\u001b[0m\u001b[1;33m.\u001b[0m\u001b[0mreduction\u001b[0m\u001b[1;33m)\u001b[0m\u001b[1;33m\u001b[0m\u001b[1;33m\u001b[0m\u001b[0m\n\u001b[0m\u001b[0;32m    529\u001b[0m \u001b[1;33m\u001b[0m\u001b[0m\n\u001b[0;32m    530\u001b[0m \u001b[1;33m\u001b[0m\u001b[0m\n",
      "\u001b[1;32mC:\\Program Files\\Python39\\lib\\site-packages\\torch\\nn\\functional.py\u001b[0m in \u001b[0;36mmse_loss\u001b[1;34m(input, target, size_average, reduce, reduction)\u001b[0m\n\u001b[0;32m   2926\u001b[0m         \u001b[0mreduction\u001b[0m \u001b[1;33m=\u001b[0m \u001b[0m_Reduction\u001b[0m\u001b[1;33m.\u001b[0m\u001b[0mlegacy_get_string\u001b[0m\u001b[1;33m(\u001b[0m\u001b[0msize_average\u001b[0m\u001b[1;33m,\u001b[0m \u001b[0mreduce\u001b[0m\u001b[1;33m)\u001b[0m\u001b[1;33m\u001b[0m\u001b[1;33m\u001b[0m\u001b[0m\n\u001b[0;32m   2927\u001b[0m \u001b[1;33m\u001b[0m\u001b[0m\n\u001b[1;32m-> 2928\u001b[1;33m     \u001b[0mexpanded_input\u001b[0m\u001b[1;33m,\u001b[0m \u001b[0mexpanded_target\u001b[0m \u001b[1;33m=\u001b[0m \u001b[0mtorch\u001b[0m\u001b[1;33m.\u001b[0m\u001b[0mbroadcast_tensors\u001b[0m\u001b[1;33m(\u001b[0m\u001b[0minput\u001b[0m\u001b[1;33m,\u001b[0m \u001b[0mtarget\u001b[0m\u001b[1;33m)\u001b[0m\u001b[1;33m\u001b[0m\u001b[1;33m\u001b[0m\u001b[0m\n\u001b[0m\u001b[0;32m   2929\u001b[0m     \u001b[1;32mreturn\u001b[0m \u001b[0mtorch\u001b[0m\u001b[1;33m.\u001b[0m\u001b[0m_C\u001b[0m\u001b[1;33m.\u001b[0m\u001b[0m_nn\u001b[0m\u001b[1;33m.\u001b[0m\u001b[0mmse_loss\u001b[0m\u001b[1;33m(\u001b[0m\u001b[0mexpanded_input\u001b[0m\u001b[1;33m,\u001b[0m \u001b[0mexpanded_target\u001b[0m\u001b[1;33m,\u001b[0m \u001b[0m_Reduction\u001b[0m\u001b[1;33m.\u001b[0m\u001b[0mget_enum\u001b[0m\u001b[1;33m(\u001b[0m\u001b[0mreduction\u001b[0m\u001b[1;33m)\u001b[0m\u001b[1;33m)\u001b[0m\u001b[1;33m\u001b[0m\u001b[1;33m\u001b[0m\u001b[0m\n\u001b[0;32m   2930\u001b[0m \u001b[1;33m\u001b[0m\u001b[0m\n",
      "\u001b[1;32mC:\\Program Files\\Python39\\lib\\site-packages\\torch\\functional.py\u001b[0m in \u001b[0;36mbroadcast_tensors\u001b[1;34m(*tensors)\u001b[0m\n\u001b[0;32m     72\u001b[0m     \u001b[1;32mif\u001b[0m \u001b[0mhas_torch_function\u001b[0m\u001b[1;33m(\u001b[0m\u001b[0mtensors\u001b[0m\u001b[1;33m)\u001b[0m\u001b[1;33m:\u001b[0m\u001b[1;33m\u001b[0m\u001b[1;33m\u001b[0m\u001b[0m\n\u001b[0;32m     73\u001b[0m         \u001b[1;32mreturn\u001b[0m \u001b[0mhandle_torch_function\u001b[0m\u001b[1;33m(\u001b[0m\u001b[0mbroadcast_tensors\u001b[0m\u001b[1;33m,\u001b[0m \u001b[0mtensors\u001b[0m\u001b[1;33m,\u001b[0m \u001b[1;33m*\u001b[0m\u001b[0mtensors\u001b[0m\u001b[1;33m)\u001b[0m\u001b[1;33m\u001b[0m\u001b[1;33m\u001b[0m\u001b[0m\n\u001b[1;32m---> 74\u001b[1;33m     \u001b[1;32mreturn\u001b[0m \u001b[0m_VF\u001b[0m\u001b[1;33m.\u001b[0m\u001b[0mbroadcast_tensors\u001b[0m\u001b[1;33m(\u001b[0m\u001b[0mtensors\u001b[0m\u001b[1;33m)\u001b[0m  \u001b[1;31m# type: ignore\u001b[0m\u001b[1;33m\u001b[0m\u001b[1;33m\u001b[0m\u001b[0m\n\u001b[0m\u001b[0;32m     75\u001b[0m \u001b[1;33m\u001b[0m\u001b[0m\n\u001b[0;32m     76\u001b[0m \u001b[1;33m\u001b[0m\u001b[0m\n",
      "\u001b[1;31mRuntimeError\u001b[0m: The size of tensor a (2) must match the size of tensor b (64) at non-singleton dimension 1"
     ]
    }
   ],
   "source": [
    "model = nn.Sequential(\n",
    "            nn.Linear(1728, 512),\n",
    "            nn.Tanh(),\n",
    "            nn.Linear(512, 128),\n",
    "            nn.Tanh(),\n",
    "            nn.Linear(128, 32),\n",
    "            nn.Tanh(),\n",
    "            nn.Linear(32, 2),\n",
    "            nn.LogSoftmax(dim=1)\n",
    "    )\n",
    "\n",
    "train_loader = torch.utils.data.DataLoader(trans_ex_cifar2, batch_size=64, shuffle=True)\n",
    "\n",
    "learning_rate = 1e-2\n",
    "optimizer = torch.optim.SGD(model.parameters(), lr=learning_rate)\n",
    "loss_fn = nn.MSELoss()\n",
    "n_epochs = 100\n",
    "\n",
    "for epoch in range(n_epochs):\n",
    "    for imgs, labels in train_loader:\n",
    "        outputs = model(imgs.view(imgs.shape[0], -1))\n",
    "        loss = loss_fn(outputs, labels)\n",
    "\n",
    "        optimizer.zero_grad()\n",
    "        loss.backward()\n",
    "        optimizer.step()\n",
    "\n",
    "    print(\"Epoch: %d, Loss: %f\" % (epoch, float(loss)))"
   ]
  },
  {
   "cell_type": "code",
   "execution_count": 148,
   "id": "embedded-chemical",
   "metadata": {},
   "outputs": [
    {
     "name": "stdout",
     "output_type": "stream",
     "text": [
      "Accuracy: %f 0.7785\n"
     ]
    }
   ],
   "source": [
    "val_loader = torch.utils.data.DataLoader(trans_ex_cifar2_val, batch_size=64, shuffle=False)\n",
    "correct = 0\n",
    "total = 0\n",
    "\n",
    "with torch.no_grad():\n",
    "    for imgs, labels in val_loader:\n",
    "        batch_size = imgs.shape[0]\n",
    "        outputs = model(imgs.view(batch_size, -1))\n",
    "        _, predicted = torch.max(outputs, dim=1)\n",
    "        \n",
    "        total += labels.shape[0]\n",
    "        correct += int((predicted == labels).sum())\n",
    "    print(\"Accuracy: %f\", correct / total)"
   ]
  },
  {
   "cell_type": "markdown",
   "id": "timely-policy",
   "metadata": {},
   "source": [
    "## 3. Is it possible to reduce the capacity of the network enough that it stops overfitting?\n",
    "### How does the model perform on the validation set when doing so?\n",
    "The accuracy approaches 80%.\n",
    "The optimal neural network size is probably when number of leaves decrease by an approximate ratio per layer."
   ]
  },
  {
   "cell_type": "code",
   "execution_count": 167,
   "id": "imposed-cleaning",
   "metadata": {},
   "outputs": [
    {
     "name": "stdout",
     "output_type": "stream",
     "text": [
      "Epoch: 0, Loss: 0.500457\n",
      "Epoch: 1, Loss: 0.616702\n",
      "Epoch: 2, Loss: 0.425903\n",
      "Epoch: 3, Loss: 0.319430\n",
      "Epoch: 4, Loss: 0.559356\n",
      "Epoch: 5, Loss: 0.455204\n",
      "Epoch: 6, Loss: 0.324271\n",
      "Epoch: 7, Loss: 0.924560\n",
      "Epoch: 8, Loss: 0.455657\n",
      "Epoch: 9, Loss: 0.359831\n",
      "Epoch: 10, Loss: 0.361095\n",
      "Epoch: 11, Loss: 0.584757\n",
      "Epoch: 12, Loss: 0.351216\n",
      "Epoch: 13, Loss: 0.381865\n",
      "Epoch: 14, Loss: 0.728024\n",
      "Epoch: 15, Loss: 0.408141\n",
      "Epoch: 16, Loss: 0.331553\n",
      "Epoch: 17, Loss: 0.473116\n",
      "Epoch: 18, Loss: 0.403648\n",
      "Epoch: 19, Loss: 0.458915\n",
      "Epoch: 20, Loss: 0.377204\n",
      "Epoch: 21, Loss: 0.413817\n",
      "Epoch: 22, Loss: 0.411432\n",
      "Epoch: 23, Loss: 0.229873\n",
      "Epoch: 24, Loss: 0.408054\n",
      "Epoch: 25, Loss: 0.462320\n",
      "Epoch: 26, Loss: 0.265643\n",
      "Epoch: 27, Loss: 0.370536\n",
      "Epoch: 28, Loss: 0.325125\n",
      "Epoch: 29, Loss: 0.242482\n",
      "Epoch: 30, Loss: 0.312433\n",
      "Epoch: 31, Loss: 0.591938\n",
      "Epoch: 32, Loss: 0.231843\n",
      "Epoch: 33, Loss: 0.249641\n",
      "Epoch: 34, Loss: 0.389867\n",
      "Epoch: 35, Loss: 0.398216\n",
      "Epoch: 36, Loss: 0.321066\n",
      "Epoch: 37, Loss: 0.190097\n",
      "Epoch: 38, Loss: 0.585551\n",
      "Epoch: 39, Loss: 0.111411\n",
      "Epoch: 40, Loss: 0.246566\n",
      "Epoch: 41, Loss: 0.213990\n",
      "Epoch: 42, Loss: 0.182502\n",
      "Epoch: 43, Loss: 0.049610\n",
      "Epoch: 44, Loss: 0.018239\n",
      "Epoch: 45, Loss: 0.051158\n",
      "Epoch: 46, Loss: 0.119744\n",
      "Epoch: 47, Loss: 0.114046\n",
      "Epoch: 48, Loss: 0.143576\n",
      "Epoch: 49, Loss: 0.075109\n",
      "Epoch: 50, Loss: 0.108176\n",
      "Epoch: 51, Loss: 0.059546\n",
      "Epoch: 52, Loss: 0.094781\n",
      "Epoch: 53, Loss: 1.874736\n",
      "Epoch: 54, Loss: 0.045665\n",
      "Epoch: 55, Loss: 0.033234\n",
      "Epoch: 56, Loss: 0.047216\n",
      "Epoch: 57, Loss: 0.030453\n",
      "Epoch: 58, Loss: 0.211684\n",
      "Epoch: 59, Loss: 0.014605\n",
      "Epoch: 60, Loss: 0.026642\n",
      "Epoch: 61, Loss: 0.012632\n",
      "Epoch: 62, Loss: 0.236896\n",
      "Epoch: 63, Loss: 0.028905\n",
      "Epoch: 64, Loss: 0.004472\n",
      "Epoch: 65, Loss: 0.005916\n",
      "Epoch: 66, Loss: 0.006928\n",
      "Epoch: 67, Loss: 0.065927\n",
      "Epoch: 68, Loss: 0.008424\n",
      "Epoch: 69, Loss: 0.029159\n",
      "Epoch: 70, Loss: 0.012977\n",
      "Epoch: 71, Loss: 0.009811\n",
      "Epoch: 72, Loss: 0.003315\n",
      "Epoch: 73, Loss: 0.008810\n",
      "Epoch: 74, Loss: 0.010515\n",
      "Epoch: 75, Loss: 0.024241\n",
      "Epoch: 76, Loss: 0.004699\n",
      "Epoch: 77, Loss: 0.017788\n",
      "Epoch: 78, Loss: 0.008683\n",
      "Epoch: 79, Loss: 0.002527\n",
      "Epoch: 80, Loss: 0.003814\n",
      "Epoch: 81, Loss: 0.014412\n",
      "Epoch: 82, Loss: 0.001222\n",
      "Epoch: 83, Loss: 0.029366\n",
      "Epoch: 84, Loss: 0.004076\n",
      "Epoch: 85, Loss: 0.000828\n",
      "Epoch: 86, Loss: 0.002059\n",
      "Epoch: 87, Loss: 0.001025\n",
      "Epoch: 88, Loss: 0.002839\n",
      "Epoch: 89, Loss: 0.002391\n",
      "Epoch: 90, Loss: 0.000783\n",
      "Epoch: 91, Loss: 0.004719\n",
      "Epoch: 92, Loss: 0.001582\n",
      "Epoch: 93, Loss: 0.002468\n",
      "Epoch: 94, Loss: 0.000953\n",
      "Epoch: 95, Loss: 0.001287\n",
      "Epoch: 96, Loss: 0.000894\n",
      "Epoch: 97, Loss: 0.000247\n",
      "Epoch: 98, Loss: 0.002383\n",
      "Epoch: 99, Loss: 0.001613\n"
     ]
    }
   ],
   "source": [
    "model = nn.Sequential(\n",
    "            nn.Linear(1728, 512),\n",
    "            nn.Tanh(),\n",
    "            nn.Linear(512, 128),\n",
    "            nn.Tanh(),\n",
    "            nn.Linear(128, 32),\n",
    "            nn.Tanh(),\n",
    "            nn.Linear(32, 2))\n",
    "\n",
    "train_loader = torch.utils.data.DataLoader(trans_ex_cifar2, batch_size=64, shuffle=True)\n",
    "\n",
    "learning_rate = 1e-2\n",
    "optimizer = torch.optim.SGD(model.parameters(), lr=learning_rate)\n",
    "loss_fn = nn.CrossEntropyLoss()\n",
    "n_epochs = 100\n",
    "\n",
    "for epoch in range(n_epochs):\n",
    "    for imgs, labels in train_loader:\n",
    "        outputs = model(imgs.view(imgs.shape[0], -1))\n",
    "        loss = loss_fn(outputs, labels)\n",
    "\n",
    "        optimizer.zero_grad()\n",
    "        loss.backward()\n",
    "        optimizer.step()\n",
    "\n",
    "    print(\"Epoch: %d, Loss: %f\" % (epoch, float(loss)))"
   ]
  },
  {
   "cell_type": "code",
   "execution_count": 168,
   "id": "collectible-prayer",
   "metadata": {},
   "outputs": [
    {
     "name": "stdout",
     "output_type": "stream",
     "text": [
      "Sequential(\n",
      "  (0): Linear(in_features=1728, out_features=512, bias=True)\n",
      "  (1): Tanh()\n",
      "  (2): Linear(in_features=512, out_features=128, bias=True)\n",
      "  (3): Tanh()\n",
      "  (4): Linear(in_features=128, out_features=32, bias=True)\n",
      "  (5): Tanh()\n",
      "  (6): Linear(in_features=32, out_features=2, bias=True)\n",
      ")\n",
      "Training set accuracy: %f 1.0\n",
      "Validation set accuracy: %f 0.7765\n"
     ]
    }
   ],
   "source": [
    "print(model)\n",
    "\n",
    "correct = 0\n",
    "total = 0\n",
    "\n",
    "with torch.no_grad():\n",
    "    for imgs, labels in train_loader:\n",
    "        batch_size = imgs.shape[0]\n",
    "        outputs = model(imgs.view(batch_size, -1))\n",
    "        _, predicted = torch.max(outputs, dim=1)\n",
    "        \n",
    "        total += labels.shape[0]\n",
    "        correct += int((predicted == labels).sum())\n",
    "    print(\"Training set accuracy: %f\", correct / total)\n",
    "\n",
    "val_loader = torch.utils.data.DataLoader(trans_ex_cifar2_val, batch_size=64, shuffle=False)\n",
    "correct = 0\n",
    "total = 0\n",
    "\n",
    "with torch.no_grad():\n",
    "    for imgs, labels in val_loader:\n",
    "        batch_size = imgs.shape[0]\n",
    "        outputs = model(imgs.view(batch_size, -1))\n",
    "        _, predicted = torch.max(outputs, dim=1)\n",
    "        \n",
    "        total += labels.shape[0]\n",
    "        correct += int((predicted == labels).sum())\n",
    "    print(\"Validation set accuracy: %f\", correct / total)"
   ]
  },
  {
   "cell_type": "markdown",
   "id": "large-bristol",
   "metadata": {},
   "source": [
    "Sequential(  \n",
    "  (0): Linear(in_features=1728, out_features=512, bias=True)  \n",
    "  (1): Tanh()  \n",
    "  (2): Linear(in_features=512, out_features=128, bias=True)  \n",
    "  (3): Tanh()  \n",
    "  (4): Linear(in_features=128, out_features=32, bias=True)  \n",
    "  (5): Tanh()  \n",
    "  (6): Linear(in_features=32, out_features=2, bias=True)  \n",
    ")  \n",
    "Training set accuracy: %f 0.9995  \n",
    "Validation set accuracy: %f 0.7795\n",
    "\n",
    "Sequential(\n",
    "  (0): Linear(in_features=1728, out_features=256, bias=True)\n",
    "  (1): Tanh()\n",
    "  (2): Linear(in_features=256, out_features=64, bias=True)\n",
    "  (3): Tanh()\n",
    "  (4): Linear(in_features=64, out_features=16, bias=True)\n",
    "  (5): Tanh()\n",
    "  (6): Linear(in_features=16, out_features=2, bias=True)\n",
    ")\n",
    "Training set accuracy: %f 0.9997\n",
    "Validation set accuracy: %f 0.774"
   ]
  },
  {
   "cell_type": "code",
   "execution_count": null,
   "id": "hydraulic-walker",
   "metadata": {},
   "outputs": [],
   "source": []
  }
 ],
 "metadata": {
  "kernelspec": {
   "display_name": "Python 3",
   "language": "python",
   "name": "python3"
  },
  "language_info": {
   "codemirror_mode": {
    "name": "ipython",
    "version": 3
   },
   "file_extension": ".py",
   "mimetype": "text/x-python",
   "name": "python",
   "nbconvert_exporter": "python",
   "pygments_lexer": "ipython3",
   "version": "3.9.2"
  }
 },
 "nbformat": 4,
 "nbformat_minor": 5
}
